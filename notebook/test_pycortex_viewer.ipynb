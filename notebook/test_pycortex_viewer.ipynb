{
 "cells": [
  {
   "cell_type": "markdown",
   "metadata": {},
   "source": [
    "A few tests to check that brain data is getting sent to `cortex.webshow` correctly. First, try loading the raw image data."
   ]
  },
  {
   "cell_type": "code",
   "execution_count": 3,
   "metadata": {
    "collapsed": true
   },
   "outputs": [],
   "source": [
    "import numpy as np\n",
    "import cortex"
   ]
  },
  {
   "cell_type": "code",
   "execution_count": 4,
   "metadata": {
    "collapsed": true
   },
   "outputs": [],
   "source": [
    "import realtimefmri"
   ]
  },
  {
   "cell_type": "code",
   "execution_count": 5,
   "metadata": {
    "collapsed": true
   },
   "outputs": [],
   "source": [
    "from glob import glob"
   ]
  },
  {
   "cell_type": "code",
   "execution_count": 6,
   "metadata": {
    "collapsed": true
   },
   "outputs": [],
   "source": [
    "from nibabel import load as nbload, save as nbsave, Nifti1Image"
   ]
  },
  {
   "cell_type": "markdown",
   "metadata": {},
   "source": [
    "# Raw activity\n",
    "- Load raw PixelData files\n",
    "- Convert to Nifti1 using the given `input_affine`\n",
    "- Transform to reference image.\n",
    "\n",
    "Looks good -- high intensity signal in frontal cortex."
   ]
  },
  {
   "cell_type": "code",
   "execution_count": 18,
   "metadata": {
    "collapsed": false
   },
   "outputs": [],
   "source": [
    "data_paths = glob('../benchmark_data/pixeldata_07/*.PixelData')"
   ]
  },
  {
   "cell_type": "code",
   "execution_count": 68,
   "metadata": {
    "collapsed": false
   },
   "outputs": [],
   "source": [
    "volumes = np.empty((len(data_paths), 100, 100, 24))"
   ]
  },
  {
   "cell_type": "code",
   "execution_count": 20,
   "metadata": {
    "collapsed": true
   },
   "outputs": [],
   "source": [
    "input_affine = np.array([\n",
    "        [-2.24000001, 0., 0., 108.97336578],\n",
    "        [0., -2.24000001, 0., 131.32203674],\n",
    "        [0., 0., 4.12999725, -59.81945419],\n",
    "        [0., 0., 0., 1.]\n",
    "    ])"
   ]
  },
  {
   "cell_type": "code",
   "execution_count": 21,
   "metadata": {
    "collapsed": true
   },
   "outputs": [],
   "source": [
    "funcref_nifti1 = nbload('../database/S1/funcref.nii')\n",
    "raw_to_volume = realtimefmri.preprocessing.RawToVolume()"
   ]
  },
  {
   "cell_type": "code",
   "execution_count": 22,
   "metadata": {
    "collapsed": false
   },
   "outputs": [
    {
     "name": "stdout",
     "output_type": "stream",
     "text": [
      "75 0 1 2 3 4 5 6 7 8 9 10 11 12 13 14 15 16 17 18 19 20 21 22 23 24 25 26 27 28 29 30 31 32 33 34 35 36 37 38 39 40 41 42 43 44 45 46 47 48 49 50 51 52 53 54 55 56 57 58 59 60 61 62 63 64 65 66 67 68 69 70 71 72 73 74\n"
     ]
    }
   ],
   "source": [
    "print len(data_paths),\n",
    "for i, data_path in enumerate(data_paths):\n",
    "    print i,\n",
    "    with open(data_path, 'r') as f:\n",
    "        raw_image_binary = f.read()\n",
    "    raw_image_volume = raw_to_volume.run(raw_image_binary)['raw_image_volume']\n",
    "    registered_image = realtimefmri.image_utils.transform(\n",
    "        Nifti1Image(raw_image_volume, input_affine), funcref_nifti1)\n",
    "    volumes[i,...] = registered_image.get_data()"
   ]
  },
  {
   "cell_type": "code",
   "execution_count": 62,
   "metadata": {
    "collapsed": false,
    "scrolled": false
   },
   "outputs": [
    {
     "name": "stdout",
     "output_type": "stream",
     "text": [
      "Started server on port 1162\n",
      "['rois']\n"
     ]
    },
    {
     "data": {
      "text/plain": [
       "<JS: window.viewers>"
      ]
     },
     "execution_count": 62,
     "metadata": {},
     "output_type": "execute_result"
    }
   ],
   "source": [
    "cortex.webshow(cortex.Volume(volumes.transpose([0,3,2,1]), 'S1', '20140802JG_avsnr_auto', vmin=0, vmax=1024))"
   ]
  },
  {
   "cell_type": "markdown",
   "metadata": {},
   "source": [
    "# Masked activity\n",
    "- Load raw image data\n",
    "- `wmd.get_activity_in_masks()` transforms the image to reference and then extracts voxels in the gray matter mask\n",
    "\n",
    "Looks good -- run alongside the raw viewer to see that the data are the same"
   ]
  },
  {
   "cell_type": "code",
   "execution_count": 37,
   "metadata": {
    "collapsed": true
   },
   "outputs": [],
   "source": [
    "wmd = realtimefmri.preprocessing.WMDetrend()\n",
    "\n",
    "gm_mask = np.empty((volumes.shape[0], wmd.masks['gm'].sum()))\n",
    "print len(data_paths),\n",
    "for i, data_path in enumerate(data_paths):\n",
    "    print i,\n",
    "    with open(data_path, 'r') as f:\n",
    "        raw_image_binary = f.read()\n",
    "    raw_image_volume = raw_to_volume.run(raw_image_binary)['raw_image_volume']\n",
    "    gm_mask[i,:] = wmd.get_activity_in_masks(raw_image_volume)['gm']"
   ]
  },
  {
   "cell_type": "code",
   "execution_count": 66,
   "metadata": {
    "collapsed": false
   },
   "outputs": [
    {
     "name": "stdout",
     "output_type": "stream",
     "text": [
      "Started server on port 22371\n",
      "['rois']\n"
     ]
    },
    {
     "data": {
      "text/plain": [
       "<JS: window.viewers>"
      ]
     },
     "execution_count": 66,
     "metadata": {},
     "output_type": "execute_result"
    }
   ],
   "source": [
    "cortex.webshow(cortex.Volume(gm_mask, 'S1', '20140802JG_avsnr_auto', vmin=0, vmax=1024))"
   ]
  },
  {
   "cell_type": "markdown",
   "metadata": {},
   "source": [
    "# White matter-detrended gray matter activity\n",
    "- Load raw PixelData\n",
    "- Run "
   ]
  },
  {
   "cell_type": "code",
   "execution_count": 64,
   "metadata": {
    "collapsed": false
   },
   "outputs": [],
   "source": [
    "gm_detrend = np.empty((volumes.shape[0], wmd.masks['gm'].sum()))"
   ]
  },
  {
   "cell_type": "code",
   "execution_count": 65,
   "metadata": {
    "collapsed": false
   },
   "outputs": [
    {
     "name": "stdout",
     "output_type": "stream",
     "text": [
      "75 0 1 2 3 4 5 6 7 8 9 10 11 12 13 14 15 16 17 18 19 20 21 22 23 24 25 26 27 28 29 30 31 32 33 34 35 36 37 38 39 40 41 42 43 44 45 46 47 48 49 50 51 52 53 54 55 56 57 58 59 60 61 62 63 64 65 66 67 68 69 70 71 72 73 74\n"
     ]
    }
   ],
   "source": [
    "print len(data_paths),\n",
    "for i, data_path in enumerate(data_paths):\n",
    "    print i,\n",
    "    with open(data_path, 'r') as f:\n",
    "        raw_image_binary = f.read()\n",
    "    raw_image_volume = raw_to_volume.run(raw_image_binary)['raw_image_volume']\n",
    "    gm_detrend[i, :] = wmd.run(raw_image_volume)['gm_detrend']"
   ]
  },
  {
   "cell_type": "code",
   "execution_count": 67,
   "metadata": {
    "collapsed": false
   },
   "outputs": [
    {
     "name": "stdout",
     "output_type": "stream",
     "text": [
      "Started server on port 32415\n",
      "['rois']\n"
     ]
    },
    {
     "data": {
      "text/plain": [
       "<JS: window.viewers>"
      ]
     },
     "execution_count": 67,
     "metadata": {},
     "output_type": "execute_result"
    },
    {
     "name": "stdout",
     "output_type": "stream",
     "text": [
      "Stopping server\n",
      "Stopping server\n"
     ]
    }
   ],
   "source": [
    "cortex.webshow(cortex.Volume(gm_detrend, 'S1', '20140802JG_avsnr_auto'))"
   ]
  }
 ],
 "metadata": {
  "kernelspec": {
   "display_name": "Python 2",
   "language": "python",
   "name": "python2"
  },
  "language_info": {
   "codemirror_mode": {
    "name": "ipython",
    "version": 2
   },
   "file_extension": ".py",
   "mimetype": "text/x-python",
   "name": "python",
   "nbconvert_exporter": "python",
   "pygments_lexer": "ipython2",
   "version": "2.7.6"
  }
 },
 "nbformat": 4,
 "nbformat_minor": 0
}
