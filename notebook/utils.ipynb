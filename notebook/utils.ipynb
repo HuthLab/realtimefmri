{
 "cells": [
  {
   "cell_type": "markdown",
   "metadata": {},
   "source": [
    "# Make left and right masks "
   ]
  },
  {
   "cell_type": "code",
   "execution_count": 80,
   "metadata": {
    "collapsed": true
   },
   "outputs": [],
   "source": [
    "from nibabel import save as nbsave, load as nbload, Nifti1Image\n",
    "\n",
    "from matplotlib import pyplot as plt\n",
    "%matplotlib inline\n",
    "\n",
    "subject = 'ANfs'\n",
    "gm_mask_nifti1 = nbload('../database/'+subject+'/gm_mask_funcref.nii')\n",
    "gm_mask = gm_mask_nifti1.get_data()"
   ]
  },
  {
   "cell_type": "code",
   "execution_count": 138,
   "metadata": {
    "collapsed": true
   },
   "outputs": [],
   "source": [
    "split_ix = 48\n",
    "\n",
    "gm_mask_left = gm_mask.copy()\n",
    "gm_mask_left[split_ix:,:,:] = False\n",
    "\n",
    "gm_mask_right = gm_mask.copy()\n",
    "gm_mask_right[:split_ix,:,:] = False"
   ]
  },
  {
   "cell_type": "code",
   "execution_count": 133,
   "metadata": {
    "collapsed": false
   },
   "outputs": [
    {
     "data": {
      "image/png": "[encoded data removed]",
      "text/plain": [
       "<matplotlib.figure.Figure at 0x7f2e53304b50>"
      ]
     },
     "metadata": {},
     "output_type": "display_data"
    }
   ],
   "source": [
    "fig, ax = plt.subplots(1,3);\n",
    "ax[0].pcolormesh(gm_mask[50,:,:]);\n",
    "ax[1].pcolormesh(gm_mask[:,50,:]);\n",
    "ax[2].pcolormesh(gm_mask[:,:,15]);"
   ]
  },
  {
   "cell_type": "code",
   "execution_count": 140,
   "metadata": {
    "collapsed": false
   },
   "outputs": [
    {
     "data": {
      "image/png": "[encoded data removed]",
      "text/plain": [
       "<matplotlib.figure.Figure at 0x7f2e535d9b90>"
      ]
     },
     "metadata": {},
     "output_type": "display_data"
    }
   ],
   "source": [
    "fig, ax = plt.subplots(1,3);\n",
    "ax[0].pcolormesh(gm_mask_left[40,:,:]);\n",
    "ax[1].pcolormesh(gm_mask_left[:,50,:]);\n",
    "ax[2].pcolormesh(gm_mask_left[:,:,15]);"
   ]
  },
  {
   "cell_type": "code",
   "execution_count": 142,
   "metadata": {
    "collapsed": false
   },
   "outputs": [
    {
     "data": {
      "image/png": "[encoded data removed]",
      "text/plain": [
       "<matplotlib.figure.Figure at 0x7f2e539c3e50>"
      ]
     },
     "metadata": {},
     "output_type": "display_data"
    }
   ],
   "source": [
    "fig, ax = plt.subplots(1,3);\n",
    "ax[0].pcolormesh(gm_mask_right[40,:,:]);\n",
    "ax[1].pcolormesh(gm_mask_right[:,50,:]);\n",
    "ax[2].pcolormesh(gm_mask_right[:,:,15]);"
   ]
  },
  {
   "cell_type": "code",
   "execution_count": 143,
   "metadata": {
    "collapsed": true
   },
   "outputs": [],
   "source": [
    "nbsave(Nifti1Image(gm_mask_left, gm_mask_nifti1.affine), '../database/'+subject+'/gm_mask_left.nii')\n",
    "nbsave(Nifti1Image(gm_mask_right, gm_mask_nifti1.affine), '../database/'+subject+'/gm_mask_right.nii')"
   ]
  },
  {
   "cell_type": "code",
   "execution_count": null,
   "metadata": {
    "collapsed": true
   },
   "outputs": [],
   "source": []
  },
  {
   "cell_type": "markdown",
   "metadata": {},
   "source": [
    "# Make stimulation directory for Storm"
   ]
  },
  {
   "cell_type": "code",
   "execution_count": 84,
   "metadata": {
    "collapsed": true
   },
   "outputs": [],
   "source": [
    "training_data = nbload('../database/SSfs_auto2/wmd_train/20150715SS_rest_5.nii')\n",
    "print training_data.shape"
   ]
  },
  {
   "cell_type": "code",
   "execution_count": 87,
   "metadata": {
    "collapsed": true
   },
   "outputs": [],
   "source": [
    "def volume_to_binary (volume):\n",
    "    volume = np.concatenate([volume, np.zeros((100,100,6))], axis=2)\n",
    "\n",
    "    nrows=6\n",
    "    ncols=6\n",
    "    mosaic = np.empty((100*nrows, 100*ncols))\n",
    "\n",
    "    for i in xrange(ncols*nrows):\n",
    "        row, col = divmod(i, ncols)\n",
    "        mosaic[row*100:(row+1)*100,col*100:(col+1)*100] = volume[:,:,i].T\n",
    "\n",
    "    return mosaic.flatten(order='C').astype(np.uint16).tostring()"
   ]
  },
  {
   "cell_type": "code",
   "execution_count": 98,
   "metadata": {
    "collapsed": false
   },
   "outputs": [],
   "source": [
    "for i in range(training_data.shape[-1]):\n",
    "    with open('../benchmark_data/SSfs_auto2/%0.12i.PixelData'%i, 'w') as f:\n",
    "        f.write(volume_to_binary(training_data.get_data()[...,i]))"
   ]
  }
 ],
 "metadata": {
  "kernelspec": {
   "display_name": "Python 2",
   "language": "python",
   "name": "python2"
  },
  "language_info": {
   "codemirror_mode": {
    "name": "ipython",
    "version": 2
   },
   "file_extension": ".py",
   "mimetype": "text/x-python",
   "name": "python",
   "nbconvert_exporter": "python",
   "pygments_lexer": "ipython2",
   "version": "2.7.6"
  }
 },
 "nbformat": 4,
 "nbformat_minor": 0
}
