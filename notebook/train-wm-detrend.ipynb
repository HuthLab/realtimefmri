{
 "cells": [
  {
   "cell_type": "code",
   "execution_count": 45,
   "metadata": {
    "collapsed": false
   },
   "outputs": [],
   "source": [
    "import os\n",
    "import sys\n",
    "import subprocess\n",
    "import numpy as np\n",
    "np.set_printoptions(precision=4, suppress=True)\n",
    "\n",
    "import cortex\n",
    "from cortex.polyutils import voxelize\n",
    "\n",
    "from scipy.ndimage.morphology import binary_erosion\n",
    "\n",
    "from nibabel.nifti1 import Nifti1Image\n",
    "from nibabel import save as nbsave, load as nbload\n",
    "\n",
    "from matplotlib import pyplot as plt\n",
    "%matplotlib inline\n",
    "\n",
    "import seaborn as sns\n",
    "\n",
    "import realtimefmri\n",
    "from realtimefmri.core.utils import generate_command"
   ]
  },
  {
   "cell_type": "markdown",
   "metadata": {},
   "source": [
    "# Transform white matter surface points to anatomical space"
   ]
  },
  {
   "cell_type": "code",
   "execution_count": 2,
   "metadata": {
    "collapsed": true
   },
   "outputs": [],
   "source": [
    "# subject = 'ANfs'\n",
    "# xfmname = '20150722AN_auto_reading'\n",
    "\n",
    "subject = 'SSfs_auto2'\n",
    "xfmname = '20160128_wm_detrend'"
   ]
  },
  {
   "cell_type": "code",
   "execution_count": 3,
   "metadata": {
    "collapsed": false,
    "scrolled": true
   },
   "outputs": [],
   "source": [
    "wm_surf_pts, wm_surf_polys = cortex.db.get_surf(subject=subject,\n",
    "                                                type='wm',\n",
    "                                                hemisphere='both',\n",
    "                                                merge=True)\n",
    "\n",
    "anat_nifti1 = nbload('/usr/local/share/pycortex/db/'+subject+'/anatomicals/raw.nii.gz')\n",
    "anat_affine = anat_nifti1.affine\n",
    "wm_surf_pts_anat = np.linalg.inv(anat_affine).dot(np.r_[wm_surf_pts.T, np.ones((1,wm_surf_pts.shape[0]))]).T[:,:3]"
   ]
  },
  {
   "cell_type": "code",
   "execution_count": null,
   "metadata": {
    "collapsed": false,
    "scrolled": true
   },
   "outputs": [],
   "source": [
    "wm_mask_anatref = voxelize(wm_surf_pts_anat,\n",
    "                       wm_surf_polys,\n",
    "                       shape=(256,256,256),\n",
    "                       center=(0,0,0),\n",
    "                       mp=True)\n",
    "\n",
    "nbsave(Nifti1Image(wm_mask_anatref, anat_affine), '../database/'+subject+'/wm_mask_anatref.nii')"
   ]
  },
  {
   "cell_type": "markdown",
   "metadata": {},
   "source": [
    "### Load white matter voxels"
   ]
  },
  {
   "cell_type": "code",
   "execution_count": 4,
   "metadata": {
    "collapsed": false
   },
   "outputs": [],
   "source": [
    "wm_mask_anatref = nbload('../database/'+subject+'/wm_mask_anatref.nii')"
   ]
  },
  {
   "cell_type": "markdown",
   "metadata": {},
   "source": [
    "# White matter mask in functional reference space\n",
    "anat2epispace does it all, as long as you use it correctly (transform data in and out)"
   ]
  },
  {
   "cell_type": "code",
   "execution_count": 5,
   "metadata": {
    "collapsed": false,
    "scrolled": true
   },
   "outputs": [],
   "source": [
    "wm_mask_funcref = cortex.volume.anat2epispace(wm_mask_anatref.get_data().T, subject, xfmname).T\n",
    "wm_mask_funcref = binary_erosion(wm_mask_funcref)"
   ]
  },
  {
   "cell_type": "code",
   "execution_count": 6,
   "metadata": {
    "collapsed": false
   },
   "outputs": [],
   "source": [
    "funcref_nifti1 = cortex.db.get_xfm(subject, xfmname).reference\n",
    "wm_mask_funcref = Nifti1Image(wm_mask_funcref.astype(float), funcref_nifti1.affine)"
   ]
  },
  {
   "cell_type": "code",
   "execution_count": 7,
   "metadata": {
    "collapsed": false
   },
   "outputs": [
    {
     "data": {
      "text/plain": [
       "array([[  -2.24  ,   -0.    ,   -0.    ,  112.    ],\n",
       "       [  -0.    ,   -2.24  ,   -0.    ,  128.8765],\n",
       "       [   0.    ,    0.    ,    4.13  ,  -60.3208],\n",
       "       [   0.    ,    0.    ,    0.    ,    1.    ]])"
      ]
     },
     "execution_count": 7,
     "metadata": {},
     "output_type": "execute_result"
    }
   ],
   "source": [
    "funcref_nifti1.affine"
   ]
  },
  {
   "cell_type": "code",
   "execution_count": 8,
   "metadata": {
    "collapsed": true
   },
   "outputs": [],
   "source": [
    "nbsave(funcref_nifti1, '../database/'+subject+'/funcref.nii')"
   ]
  },
  {
   "cell_type": "code",
   "execution_count": 9,
   "metadata": {
    "collapsed": false
   },
   "outputs": [],
   "source": [
    "nbsave(wm_mask_funcref, '../database/'+subject+'/wm_mask_funcref.nii')"
   ]
  },
  {
   "cell_type": "markdown",
   "metadata": {},
   "source": [
    "# Visual check of white matter mask on functional reference image"
   ]
  },
  {
   "cell_type": "code",
   "execution_count": null,
   "metadata": {
    "collapsed": true
   },
   "outputs": [],
   "source": [
    "from realtimefmri.core.utils import generate_command"
   ]
  },
  {
   "cell_type": "code",
   "execution_count": 10,
   "metadata": {
    "collapsed": false
   },
   "outputs": [
    {
     "name": "stdout",
     "output_type": "stream",
     "text": [
      "fslview ../database/SSfs_auto2/funcref.nii ../database/SSfs_auto2/wm_mask_funcref.nii\n"
     ]
    },
    {
     "data": {
      "text/plain": [
       "0"
      ]
     },
     "execution_count": 10,
     "metadata": {},
     "output_type": "execute_result"
    }
   ],
   "source": [
    "fsl_args = [\n",
    "    {\n",
    "        'position': 'last',\n",
    "        'value': funcref_nifti1.get_filename()\n",
    "    },\n",
    "    {\n",
    "        'position': 'last',\n",
    "        'value': '../database/'+subject+'/wm_mask_funcref.nii'\n",
    "    }\n",
    "]\n",
    "cmd = generate_command('fslview', fsl_args)\n",
    "print ' '.join(cmd)\n",
    "subprocess.call(cmd)"
   ]
  },
  {
   "cell_type": "markdown",
   "metadata": {},
   "source": [
    "# Gray matter mask in functional reference space\n",
    "It already is, just save voxeldata with functional reference affine in a Nifti1 file"
   ]
  },
  {
   "cell_type": "code",
   "execution_count": 38,
   "metadata": {
    "collapsed": false
   },
   "outputs": [],
   "source": [
    "gm_mask_pycortex = cortex.db.get_mask(subject, xfmname, type='thick')\n",
    "gm_mask_funcref = Nifti1Image(gm_mask_pycortex.T.astype(float), funcref_nifti1.affine)"
   ]
  },
  {
   "cell_type": "code",
   "execution_count": 39,
   "metadata": {
    "collapsed": false
   },
   "outputs": [
    {
     "data": {
      "text/plain": [
       "87852"
      ]
     },
     "execution_count": 39,
     "metadata": {},
     "output_type": "execute_result"
    }
   ],
   "source": [
    "gm_mask_pycortex.sum()"
   ]
  },
  {
   "cell_type": "code",
   "execution_count": 56,
   "metadata": {
    "collapsed": true
   },
   "outputs": [],
   "source": [
    "nbsave(gm_mask_funcref, '../database/'+subject+'/gm_mask_funcref.nii')"
   ]
  },
  {
   "cell_type": "code",
   "execution_count": 41,
   "metadata": {
    "collapsed": false
   },
   "outputs": [
    {
     "name": "stdout",
     "output_type": "stream",
     "text": [
      "(100, 100, 30)\n",
      "(100, 100, 30)\n",
      "(100, 100, 30)\n"
     ]
    }
   ],
   "source": [
    "print funcref_nifti1.shape\n",
    "print gm_mask_funcref.shape\n",
    "print wm_mask_funcref.shape"
   ]
  },
  {
   "cell_type": "code",
   "execution_count": 46,
   "metadata": {
    "collapsed": false
   },
   "outputs": [
    {
     "name": "stdout",
     "output_type": "stream",
     "text": [
      "fslview ../database/SSfs_auto2/gm_mask_funcref.nii ../database/SSfs_auto2/wm_mask_funcref.nii ../database/SSfs_auto2/funcref.nii\n"
     ]
    },
    {
     "data": {
      "text/plain": [
       "0"
      ]
     },
     "execution_count": 46,
     "metadata": {},
     "output_type": "execute_result"
    }
   ],
   "source": [
    "fsl_args = [\n",
    "    {\n",
    "        'position': 'last',\n",
    "        'value': '../database/'+subject+'/gm_mask_funcref.nii'\n",
    "    },\n",
    "    {\n",
    "        'position': 'last',\n",
    "        'value': '../database/'+subject+'/wm_mask_funcref.nii'\n",
    "    },\n",
    "    {\n",
    "        'position': 'last',\n",
    "        'value': '../database/'+subject+'/funcref.nii'\n",
    "    }\n",
    "]\n",
    "cmd = generate_command('fslview', fsl_args)\n",
    "print ' '.join(cmd)\n",
    "subprocess.call(cmd)"
   ]
  },
  {
   "cell_type": "markdown",
   "metadata": {},
   "source": [
    "## Get activations"
   ]
  },
  {
   "cell_type": "code",
   "execution_count": 47,
   "metadata": {
    "collapsed": false
   },
   "outputs": [],
   "source": [
    "from realtimefmri.core.preprocessing import RawToNifti, MotionCorrect, ApplyMask, WMDetrend"
   ]
  },
  {
   "cell_type": "code",
   "execution_count": 48,
   "metadata": {
    "collapsed": false
   },
   "outputs": [],
   "source": [
    "mc = MotionCorrect(subject, reference_name='funcref.nii')\n",
    "apply_gm_mask = ApplyMask(subject=subject, mask_name='gm_mask_funcref')\n",
    "apply_wm_mask = ApplyMask(subject=subject, mask_name='wm_mask_funcref')\n",
    "wm = WMDetrend(subject, None)"
   ]
  },
  {
   "cell_type": "code",
   "execution_count": 49,
   "metadata": {
    "collapsed": false
   },
   "outputs": [
    {
     "data": {
      "text/plain": [
       "(100, 100, 30, 450)"
      ]
     },
     "execution_count": 49,
     "metadata": {},
     "output_type": "execute_result"
    }
   ],
   "source": [
    "from glob import glob\n",
    "\n",
    "training_data_paths = glob('../database/'+subject+'/wmd_train/*.nii')\n",
    "training_data_path = training_data_paths[0]\n",
    "training_data = nbload(training_data_path)\n",
    "training_data.get_data().shape # xyz n"
   ]
  },
  {
   "cell_type": "code",
   "execution_count": 50,
   "metadata": {
    "collapsed": false
   },
   "outputs": [
    {
     "name": "stdout",
     "output_type": "stream",
     "text": [
      "(450, 87852)\n",
      "(450, 13582)\n"
     ]
    }
   ],
   "source": [
    "ntrials = training_data.shape[-1]\n",
    "n_gm = int(gm_mask_funcref.get_data().sum())\n",
    "n_wm = int(wm_mask_funcref.get_data().sum())\n",
    "\n",
    "gm_activity = np.empty((ntrials, n_gm))\n",
    "wm_activity = np.empty((ntrials, n_wm))\n",
    "\n",
    "print gm_activity.shape\n",
    "print wm_activity.shape"
   ]
  },
  {
   "cell_type": "code",
   "execution_count": 52,
   "metadata": {
    "collapsed": false,
    "scrolled": true
   },
   "outputs": [
    {
     "name": "stdout",
     "output_type": "stream",
     "text": [
      "450 0 1 2 3 4 5 6 7 8 9 10 11 12 13 14 15 16 17 18 19 20 21 22 23 24 25 26 27 28 29 30 31 32 33 34 35 36 37 38 39 40 41 42 43 44 45 46 47 48 49 50 51 52 53 54 55 56 57 58 59 60 61 62 63 64 65 66 67 68 69 70 71 72 73 74 75 76 77 78 79 80 81 82 83 84 85 86 87 88 89 90 91 92 93 94 95 96 97 98 99 100 101 102 103 104 105 106 107 108 109 110 111 112 113 114 115 116 117 118 119 120 121 122 123 124 125 126 127 128 129 130 131 132 133 134 135 136 137 138 139 140 141 142 143 144 145 146 147 148 149 150 151 152 153 154 155 156 157 158 159 160 161 162 163 164 165 166 167 168 169 170 171 172 173 174 175 176 177 178 179 180 181 182 183 184 185 186 187 188 189 190 191 192 193 194 195 196 197 198 199 200 201 202 203 204 205 206 207 208 209 210 211 212 213 214 215 216 217 218 219 220 221 222 223 224 225 226 227 228 229 230 231 232 233 234 235 236 237 238 239 240 241 242 243 244 245 246 247 248 249 250 251 252 253 254 255 256 257 258 259 260 261 262 263 264 265 266 267 268 269 270 271 272 273 274 275 276 277 278 279 280 281 282 283 284 285 286 287 288 289 290 291 292 293 294 295 296 297 298 299 300 301 302 303 304 305 306 307 308 309 310 311 312 313 314 315 316 317 318 319 320 321 322 323 324 325 326 327 328 329 330 331 332 333 334 335 336 337 338 339 340 341 342 343 344 345 346 347 348 349 350 351 352 353 354 355 356 357 358 359 360 361 362 363 364 365 366 367 368 369 370 371 372 373 374 375 376 377 378 379 380 381 382 383 384 385 386 387 388 389 390 391 392 393 394 395 396 397 398 399 400 401 402 403 404 405 406 407 408 409 410 411 412 413 414 415 416 417 418 419 420 421 422 423 424 425 426 427 428 429 430 431 432 433 434 435 436 437 438 439 440 441 442 443 444 445 446 447 448 449\n"
     ]
    }
   ],
   "source": [
    "i = 0\n",
    "print ntrials,\n",
    "for i in range(ntrials):\n",
    "    print i,\n",
    "    volume = training_data.get_data()[...,i]\n",
    "    volume = Nifti1Image(volume, training_data.affine)\n",
    "    volume_mc = mc.run(volume)\n",
    "    gm_activity[i,:] = apply_gm_mask.run(volume_mc)\n",
    "    wm_activity[i,:] = apply_wm_mask.run(volume_mc)\n",
    "    i += 1"
   ]
  },
  {
   "cell_type": "code",
   "execution_count": 53,
   "metadata": {
    "collapsed": true
   },
   "outputs": [],
   "source": [
    "model, pca = wm.train(gm_activity, wm_activity)"
   ]
  },
  {
   "cell_type": "code",
   "execution_count": 54,
   "metadata": {
    "collapsed": false
   },
   "outputs": [
    {
     "name": "stdout",
     "output_type": "stream",
     "text": [
      "model-20160128_1547.pkl\n",
      "pca-20160128_1547.pkl\n"
     ]
    }
   ],
   "source": [
    "import cPickle\n",
    "import time\n",
    "\n",
    "current_time = time.strftime('%Y%m%d_%H%M')\n",
    "model_fpath = 'model-%s.pkl'%current_time\n",
    "print model_fpath\n",
    "\n",
    "with open(os.path.join('../database/'+subject+'/', model_fpath), 'w') as f:\n",
    "    cPickle.dump(model, f)\n",
    "\n",
    "pca_fpath = 'pca-%s.pkl'%current_time\n",
    "print pca_fpath\n",
    "\n",
    "with open(os.path.join('../database/'+subject+'/',\n",
    "                       pca_fpath), 'w') as f:\n",
    "    cPickle.dump(pca, f)"
   ]
  },
  {
   "cell_type": "code",
   "execution_count": 55,
   "metadata": {
    "collapsed": false
   },
   "outputs": [
    {
     "name": "stdout",
     "output_type": "stream",
     "text": [
      "funcref.nii          gm_mask_left.nii   model-20160128_1547.pkl  \u001b[0m\u001b[01;34mwmd_train\u001b[0m/           wm_mask_funcref.nii\r\n",
      "gm_mask_funcref.nii  gm_mask_right.nii  pca-20160128_1547.pkl    wm_mask_anatref.nii\r\n"
     ]
    }
   ],
   "source": [
    "ls ../database/SSfs_auto2/"
   ]
  },
  {
   "cell_type": "code",
   "execution_count": 37,
   "metadata": {
    "collapsed": false
   },
   "outputs": [
    {
     "name": "stdout",
     "output_type": "stream",
     "text": [
      "Started server on port 35799\n",
      "['rois']\n"
     ]
    },
    {
     "data": {
      "text/plain": [
       "<JS: window.viewers>"
      ]
     },
     "execution_count": 37,
     "metadata": {},
     "output_type": "execute_result"
    }
   ],
   "source": [
    "cortex.webshow(cortex.Volume(np.transpose(training_data.get_data(), (3,2,1,0)), subject, xfmname))"
   ]
  },
  {
   "cell_type": "code",
   "execution_count": null,
   "metadata": {
    "collapsed": true
   },
   "outputs": [],
   "source": []
  },
  {
   "cell_type": "markdown",
   "metadata": {},
   "source": [
    "# Make a new reference image\n",
    "If no reference image exists for the training data, make a new transform, along with surfaces"
   ]
  },
  {
   "cell_type": "code",
   "execution_count": 103,
   "metadata": {
    "collapsed": true
   },
   "outputs": [],
   "source": [
    "new_xfmname = time.strftime('%Y%m%d_wm_detrend')\n",
    "\n",
    "new_reference = training_data.get_data()[...,0]\n",
    "nbsave(Nifti1Image(new_reference, training_data.affine), 'new_reference.nii')"
   ]
  },
  {
   "cell_type": "code",
   "execution_count": 108,
   "metadata": {
    "collapsed": false
   },
   "outputs": [
    {
     "name": "stdout",
     "output_type": "stream",
     "text": [
      "Generating brainmask anatomical...\n",
      "Brain masking anatomical...\n",
      "Generating whitematter anatomical...\n",
      "Segmenting the brain...\n",
      "FLIRT pre-alignment\n",
      "Running BBR\n",
      "Success\n"
     ]
    }
   ],
   "source": [
    "cortex.align.automatic(subject, new_xfmname, 'new_reference.nii')"
   ]
  },
  {
   "cell_type": "code",
   "execution_count": null,
   "metadata": {
    "collapsed": true
   },
   "outputs": [],
   "source": []
  },
  {
   "cell_type": "code",
   "execution_count": null,
   "metadata": {
    "collapsed": true
   },
   "outputs": [],
   "source": []
  },
  {
   "cell_type": "code",
   "execution_count": 16,
   "metadata": {
    "collapsed": false
   },
   "outputs": [
    {
     "data": {
      "text/plain": [
       "(100, 100, 30)"
      ]
     },
     "execution_count": 16,
     "metadata": {},
     "output_type": "execute_result"
    }
   ],
   "source": [
    "volume.shape"
   ]
  },
  {
   "cell_type": "code",
   "execution_count": 25,
   "metadata": {
    "collapsed": false
   },
   "outputs": [
    {
     "data": {
      "text/plain": [
       "True"
      ]
     },
     "execution_count": 25,
     "metadata": {},
     "output_type": "execute_result"
    }
   ],
   "source": [
    "hasattr([1,2,3], '__len__')"
   ]
  },
  {
   "cell_type": "code",
   "execution_count": 24,
   "metadata": {
    "collapsed": false
   },
   "outputs": [],
   "source": [
    "x = [1,3,2]"
   ]
  },
  {
   "cell_type": "code",
   "execution_count": null,
   "metadata": {
    "collapsed": true
   },
   "outputs": [],
   "source": [
    "x.__"
   ]
  }
 ],
 "metadata": {
  "kernelspec": {
   "display_name": "Python 2",
   "language": "python",
   "name": "python2"
  },
  "language_info": {
   "codemirror_mode": {
    "name": "ipython",
    "version": 2
   },
   "file_extension": ".py",
   "mimetype": "text/x-python",
   "name": "python",
   "nbconvert_exporter": "python",
   "pygments_lexer": "ipython2",
   "version": "2.7.6"
  }
 },
 "nbformat": 4,
 "nbformat_minor": 0
}
