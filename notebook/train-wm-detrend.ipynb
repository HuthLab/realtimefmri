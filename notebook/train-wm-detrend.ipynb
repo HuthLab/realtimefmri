{
 "cells": [
  {
   "cell_type": "code",
   "execution_count": 16,
   "metadata": {
    "collapsed": false
   },
   "outputs": [],
   "source": [
    "import os\n",
    "import sys\n",
    "import subprocess\n",
    "import numpy as np\n",
    "np.set_printoptions(precision=4, suppress=True)\n",
    "\n",
    "import cortex\n",
    "from cortex.polyutils import voxelize\n",
    "\n",
    "from scipy.ndimage.morphology import binary_erosion\n",
    "\n",
    "from nibabel.nifti1 import Nifti1Image\n",
    "from nibabel import save as nbsave, load as nbload\n",
    "\n",
    "from matplotlib import pyplot as plt\n",
    "%matplotlib inline\n",
    "\n",
    "import seaborn as sns\n",
    "import realtimefmri"
   ]
  },
  {
   "cell_type": "markdown",
   "metadata": {},
   "source": [
    "# Transform white matter surface points to anatomical space"
   ]
  },
  {
   "cell_type": "code",
   "execution_count": 17,
   "metadata": {
    "collapsed": true
   },
   "outputs": [],
   "source": [
    "# subject = 'ANfs'\n",
    "# xfmname = '20150722AN_auto_reading'\n",
    "\n",
    "subject = 'SSfs_auto2'\n",
    "xfmname = '20150715SS_restingstate'"
   ]
  },
  {
   "cell_type": "code",
   "execution_count": 18,
   "metadata": {
    "collapsed": false,
    "scrolled": true
   },
   "outputs": [],
   "source": [
    "wm_surf_pts, wm_surf_polys = cortex.db.get_surf(subject=subject,\n",
    "                                                type='wm',\n",
    "                                                hemisphere='both',\n",
    "                                                merge=True)\n",
    "\n",
    "anat_nifti1 = nbload('/usr/local/share/pycortex/db/'+subject+'/anatomicals/raw.nii.gz')\n",
    "anat_affine = anat_nifti1.affine\n",
    "wm_surf_pts_anat = np.linalg.inv(anat_affine).dot(np.r_[wm_surf_pts.T, np.ones((1,wm_surf_pts.shape[0]))]).T[:,:3]"
   ]
  },
  {
   "cell_type": "code",
   "execution_count": 19,
   "metadata": {
    "collapsed": false
   },
   "outputs": [
    {
     "ename": "ImportError",
     "evalue": "No module named tvtk.api",
     "output_type": "error",
     "traceback": [
      "\u001b[1;31m---------------------------------------------------------------------------\u001b[0m",
      "\u001b[1;31mImportError\u001b[0m                               Traceback (most recent call last)",
      "\u001b[1;32m<ipython-input-19-1f7bc284413e>\u001b[0m in \u001b[0;36m<module>\u001b[1;34m()\u001b[0m\n\u001b[0;32m      3\u001b[0m                        \u001b[0mshape\u001b[0m\u001b[1;33m=\u001b[0m\u001b[1;33m(\u001b[0m\u001b[1;36m256\u001b[0m\u001b[1;33m,\u001b[0m\u001b[1;36m256\u001b[0m\u001b[1;33m,\u001b[0m\u001b[1;36m256\u001b[0m\u001b[1;33m)\u001b[0m\u001b[1;33m,\u001b[0m\u001b[1;33m\u001b[0m\u001b[0m\n\u001b[0;32m      4\u001b[0m                        \u001b[0mcenter\u001b[0m\u001b[1;33m=\u001b[0m\u001b[1;33m(\u001b[0m\u001b[1;36m0\u001b[0m\u001b[1;33m,\u001b[0m\u001b[1;36m0\u001b[0m\u001b[1;33m,\u001b[0m\u001b[1;36m0\u001b[0m\u001b[1;33m)\u001b[0m\u001b[1;33m,\u001b[0m\u001b[1;33m\u001b[0m\u001b[0m\n\u001b[1;32m----> 5\u001b[1;33m                        mp=True)\n\u001b[0m",
      "\u001b[1;32m/usr/local/lib/python2.7/dist-packages/cortex/polyutils.pyc\u001b[0m in \u001b[0;36mvoxelize\u001b[1;34m(pts, polys, shape, center, mp)\u001b[0m\n\u001b[0;32m    949\u001b[0m \u001b[1;33m\u001b[0m\u001b[0m\n\u001b[0;32m    950\u001b[0m \u001b[1;32mdef\u001b[0m \u001b[0mvoxelize\u001b[0m\u001b[1;33m(\u001b[0m\u001b[0mpts\u001b[0m\u001b[1;33m,\u001b[0m \u001b[0mpolys\u001b[0m\u001b[1;33m,\u001b[0m \u001b[0mshape\u001b[0m\u001b[1;33m=\u001b[0m\u001b[1;33m(\u001b[0m\u001b[1;36m256\u001b[0m\u001b[1;33m,\u001b[0m \u001b[1;36m256\u001b[0m\u001b[1;33m,\u001b[0m \u001b[1;36m256\u001b[0m\u001b[1;33m)\u001b[0m\u001b[1;33m,\u001b[0m \u001b[0mcenter\u001b[0m\u001b[1;33m=\u001b[0m\u001b[1;33m(\u001b[0m\u001b[1;36m128\u001b[0m\u001b[1;33m,\u001b[0m \u001b[1;36m128\u001b[0m\u001b[1;33m,\u001b[0m \u001b[1;36m128\u001b[0m\u001b[1;33m)\u001b[0m\u001b[1;33m,\u001b[0m \u001b[0mmp\u001b[0m\u001b[1;33m=\u001b[0m\u001b[0mTrue\u001b[0m\u001b[1;33m)\u001b[0m\u001b[1;33m:\u001b[0m\u001b[1;33m\u001b[0m\u001b[0m\n\u001b[1;32m--> 951\u001b[1;33m     \u001b[1;32mfrom\u001b[0m \u001b[0mtvtk\u001b[0m\u001b[1;33m.\u001b[0m\u001b[0mapi\u001b[0m \u001b[1;32mimport\u001b[0m \u001b[0mtvtk\u001b[0m\u001b[1;33m\u001b[0m\u001b[0m\n\u001b[0m\u001b[0;32m    952\u001b[0m \u001b[1;33m\u001b[0m\u001b[0m\n\u001b[0;32m    953\u001b[0m     \u001b[0mpd\u001b[0m \u001b[1;33m=\u001b[0m \u001b[0mtvtk\u001b[0m\u001b[1;33m.\u001b[0m\u001b[0mPolyData\u001b[0m\u001b[1;33m(\u001b[0m\u001b[0mpoints\u001b[0m\u001b[1;33m=\u001b[0m\u001b[0mpts\u001b[0m \u001b[1;33m+\u001b[0m \u001b[0mcenter\u001b[0m \u001b[1;33m+\u001b[0m \u001b[1;33m(\u001b[0m\u001b[1;36m0\u001b[0m\u001b[1;33m,\u001b[0m \u001b[1;36m0\u001b[0m\u001b[1;33m,\u001b[0m \u001b[1;36m0\u001b[0m\u001b[1;33m)\u001b[0m\u001b[1;33m,\u001b[0m \u001b[0mpolys\u001b[0m\u001b[1;33m=\u001b[0m\u001b[0mpolys\u001b[0m\u001b[1;33m)\u001b[0m\u001b[1;33m\u001b[0m\u001b[0m\n",
      "\u001b[1;31mImportError\u001b[0m: No module named tvtk.api"
     ]
    }
   ],
   "source": [
    "wm_mask_anatref = voxelize(wm_surf_pts_anat,\n",
    "                       wm_surf_polys,\n",
    "                       shape=(256,256,256),\n",
    "                       center=(0,0,0),\n",
    "                       mp=True)"
   ]
  },
  {
   "cell_type": "code",
   "execution_count": null,
   "metadata": {
    "collapsed": true
   },
   "outputs": [],
   "source": [
    "nbsave(Nifti1Image(wm_mask_anatref, anat_affine), '../database/'+subject+'/wm_mask_anatref.nii')"
   ]
  },
  {
   "cell_type": "markdown",
   "metadata": {},
   "source": [
    "### Load white matter voxels"
   ]
  },
  {
   "cell_type": "code",
   "execution_count": 6,
   "metadata": {
    "collapsed": false
   },
   "outputs": [],
   "source": [
    "wm_mask_anatref = nbload('../database/'+subject+'/wm_mask_anatref.nii')"
   ]
  },
  {
   "cell_type": "markdown",
   "metadata": {},
   "source": [
    "# White matter mask in functional reference space\n",
    "anat2epispace does it all, as long as you use it correctly (transform data in and out)"
   ]
  },
  {
   "cell_type": "code",
   "execution_count": 7,
   "metadata": {
    "collapsed": false
   },
   "outputs": [],
   "source": [
    "wm_mask_funcref = cortex.volume.anat2epispace(wm_mask_anatref.get_data().T, subject, xfmname).T\n",
    "wm_mask_funcref = binary_erosion(wm_mask_funcref)"
   ]
  },
  {
   "cell_type": "code",
   "execution_count": 8,
   "metadata": {
    "collapsed": false
   },
   "outputs": [],
   "source": [
    "funcref_nifti1 = cortex.db.get_xfm(subject, xfmname).reference\n",
    "wm_mask_funcref = Nifti1Image(wm_mask_funcref.astype(float), funcref_nifti1.affine)"
   ]
  },
  {
   "cell_type": "code",
   "execution_count": 9,
   "metadata": {
    "collapsed": false
   },
   "outputs": [
    {
     "data": {
      "text/plain": [
       "array([[  -2.24  ,    0.    ,    0.    ,  112.    ],\n",
       "       [  -0.    ,   -2.2285,   -0.4174,  124.936 ],\n",
       "       [   0.    ,   -0.2264,    4.1089,  -58.9139],\n",
       "       [   0.    ,    0.    ,    0.    ,    1.    ]])"
      ]
     },
     "execution_count": 9,
     "metadata": {},
     "output_type": "execute_result"
    }
   ],
   "source": [
    "funcref_nifti1.affine"
   ]
  },
  {
   "cell_type": "code",
   "execution_count": 10,
   "metadata": {
    "collapsed": true
   },
   "outputs": [],
   "source": [
    "nbsave(funcref_nifti1, '../database/'+subject+'/funcref.nii')"
   ]
  },
  {
   "cell_type": "code",
   "execution_count": 11,
   "metadata": {
    "collapsed": false
   },
   "outputs": [],
   "source": [
    "nbsave(wm_mask_funcref, '../database/'+subject+'/wm_mask_funcref.nii')"
   ]
  },
  {
   "cell_type": "markdown",
   "metadata": {},
   "source": [
    "# Visual check of white matter mask on functional reference image"
   ]
  },
  {
   "cell_type": "code",
   "execution_count": 12,
   "metadata": {
    "collapsed": true
   },
   "outputs": [],
   "source": [
    "from realtimefmri.utils import generate_command\n",
    "\n",
    "fsl_args = [\n",
    "    {\n",
    "        'position': 'last',\n",
    "        'value': funcref_nifti1.get_filename()\n",
    "    },\n",
    "    {\n",
    "        'position': 'last',\n",
    "        'value': '../database/'+subject+'/wm_mask_funcref.nii'\n",
    "    }\n",
    "]\n",
    "cmd = generate_command('fslview', fsl_args)\n",
    "print ' '.join(cmd)\n",
    "subprocess.call(cmd)"
   ]
  },
  {
   "cell_type": "markdown",
   "metadata": {},
   "source": [
    "Does fine. Now we should try morphing the gray matter mask"
   ]
  },
  {
   "cell_type": "markdown",
   "metadata": {},
   "source": [
    "# Gray matter mask in functional reference space\n",
    "It already is, just save voxeldata with functional reference affine in a Nifti1 file"
   ]
  },
  {
   "cell_type": "code",
   "execution_count": 12,
   "metadata": {
    "collapsed": false
   },
   "outputs": [],
   "source": [
    "gm_voxeldata = cortex.get_cortical_mask(subject, xfmname)"
   ]
  },
  {
   "cell_type": "code",
   "execution_count": 11,
   "metadata": {
    "collapsed": false
   },
   "outputs": [],
   "source": [
    "gm_voxeldata = nbload('/usr/local/share/pycortex/db/'+subject+'/transforms/'+xfmname+'/mask_thick.nii.gz')"
   ]
  },
  {
   "cell_type": "code",
   "execution_count": null,
   "metadata": {
    "collapsed": true
   },
   "outputs": [],
   "source": [
    "gm_voxeldata_2.T==gm_voxeldata.get_"
   ]
  },
  {
   "cell_type": "code",
   "execution_count": 14,
   "metadata": {
    "collapsed": false
   },
   "outputs": [
    {
     "data": {
      "text/plain": [
       "(100, 100, 30)"
      ]
     },
     "execution_count": 14,
     "metadata": {},
     "output_type": "execute_result"
    }
   ],
   "source": [
    "gm_voxeldata.shape"
   ]
  },
  {
   "cell_type": "code",
   "execution_count": 15,
   "metadata": {
    "collapsed": false
   },
   "outputs": [
    {
     "data": {
      "text/plain": [
       "(30, 100, 100)"
      ]
     },
     "execution_count": 15,
     "metadata": {},
     "output_type": "execute_result"
    }
   ],
   "source": [
    "gm_voxeldata_2.shape"
   ]
  },
  {
   "cell_type": "code",
   "execution_count": 13,
   "metadata": {
    "collapsed": false
   },
   "outputs": [
    {
     "name": "stderr",
     "output_type": "stream",
     "text": [
      "/usr/local/lib/python2.7/dist-packages/ipykernel/__main__.py:1: DeprecationWarning: elementwise == comparison failed; this will raise an error in the future.\n",
      "  if __name__ == '__main__':\n"
     ]
    },
    {
     "ename": "AttributeError",
     "evalue": "'bool' object has no attribute 'all'",
     "output_type": "error",
     "traceback": [
      "\u001b[1;31m---------------------------------------------------------------------------\u001b[0m",
      "\u001b[1;31mAttributeError\u001b[0m                            Traceback (most recent call last)",
      "\u001b[1;32m<ipython-input-13-a5eeed3f0aa0>\u001b[0m in \u001b[0;36m<module>\u001b[1;34m()\u001b[0m\n\u001b[1;32m----> 1\u001b[1;33m \u001b[1;33m(\u001b[0m\u001b[0mgm_voxeldata\u001b[0m\u001b[1;33m.\u001b[0m\u001b[0mget_data\u001b[0m\u001b[1;33m(\u001b[0m\u001b[1;33m)\u001b[0m\u001b[1;33m==\u001b[0m\u001b[0mgm_voxeldata_2\u001b[0m\u001b[1;33m)\u001b[0m\u001b[1;33m.\u001b[0m\u001b[0mall\u001b[0m\u001b[1;33m(\u001b[0m\u001b[1;33m)\u001b[0m\u001b[1;33m\u001b[0m\u001b[0m\n\u001b[0m",
      "\u001b[1;31mAttributeError\u001b[0m: 'bool' object has no attribute 'all'"
     ]
    }
   ],
   "source": [
    "(gm_voxeldata.get_data()==gm_voxeldata_2).all()"
   ]
  },
  {
   "cell_type": "code",
   "execution_count": 13,
   "metadata": {
    "collapsed": false
   },
   "outputs": [],
   "source": [
    "gm_mask_funcref = Nifti1Image(gm_voxeldata.astype(float), funcref_nifti1.affine)"
   ]
  },
  {
   "cell_type": "code",
   "execution_count": 18,
   "metadata": {
    "collapsed": true
   },
   "outputs": [],
   "source": [
    "nbsave(gm_mask_funcref, 'gm_mask_funcref.nii')"
   ]
  },
  {
   "cell_type": "code",
   "execution_count": 11,
   "metadata": {
    "collapsed": false
   },
   "outputs": [
    {
     "name": "stdout",
     "output_type": "stream",
     "text": [
      "fslview /usr/local/share/pycortex/db/S1/transforms/20140802JG_avsnr_auto/reference.nii.gz ../database/S1/wm_mask_funcref.nii\n"
     ]
    },
    {
     "data": {
      "text/plain": [
       "0"
      ]
     },
     "execution_count": 11,
     "metadata": {},
     "output_type": "execute_result"
    }
   ],
   "source": [
    "fsl_args = [\n",
    "    {\n",
    "        'position': 'last',\n",
    "        'value': '../database/'+subject+'gm_mask_funcref.nii'\n",
    "    },\n",
    "    {\n",
    "        'position': 'last',\n",
    "        'value': '../database/'+subject+'/wm_mask_funcref.nii'\n",
    "    },\n",
    "    {\n",
    "        'position': 'last',\n",
    "        'value': '../database/'+subject+'funcref.nii'\n",
    "    }\n",
    "]\n",
    "cmd = generate_command('fslview', fsl_args)\n",
    "print ' '.join(cmd)\n",
    "subprocess.call(cmd)"
   ]
  },
  {
   "cell_type": "markdown",
   "metadata": {},
   "source": [
    "# Test get mask activation\n",
    "Start with an input image, 7th image in first scan"
   ]
  },
  {
   "cell_type": "code",
   "execution_count": 14,
   "metadata": {
    "collapsed": false
   },
   "outputs": [
    {
     "data": {
      "text/plain": [
       "<module 'realtimefmri.preprocessing' from '/home/glab/realtimefmri/preprocessing.pyc'>"
      ]
     },
     "execution_count": 14,
     "metadata": {},
     "output_type": "execute_result"
    }
   ],
   "source": [
    "import realtimefmri\n",
    "reload(sys.modules['realtimefmri.image_utils'])\n",
    "reload(sys.modules['realtimefmri.preprocessing'])"
   ]
  },
  {
   "cell_type": "code",
   "execution_count": 15,
   "metadata": {
    "collapsed": true
   },
   "outputs": [],
   "source": [
    "r = nbload('/usr/local/share/pycortex/db/ANfs/transforms/20150722AN_auto_reading/reference.nii.gz')"
   ]
  },
  {
   "cell_type": "code",
   "execution_count": 16,
   "metadata": {
    "collapsed": true
   },
   "outputs": [],
   "source": [
    "input_affine = r.affine[:]"
   ]
  },
  {
   "cell_type": "code",
   "execution_count": 18,
   "metadata": {
    "collapsed": false
   },
   "outputs": [],
   "source": [
    "def voxel_set_explainable_variance(data, ncorrection=True, dozscore=True):\n",
    "    if data.ndim == 2:\n",
    "        # Fine, let's handle single voxels\n",
    "        data = data[...,None]\n",
    "\n",
    "    if dozscore:\n",
    "        from scipy.stats import zscore\n",
    "        data = zscore(data, 1)\n",
    "\n",
    "    residual = data - data.mean(0)\n",
    "    residualvar = np.mean(residual.var(1), 0)\n",
    "    ev = 1 - residualvar\n",
    "\n",
    "    if ncorrection:\n",
    "        ev = ev - ((1 - ev) / np.float((data.shape[0] - 1)))\n",
    "    return ev"
   ]
  },
  {
   "cell_type": "code",
   "execution_count": 30,
   "metadata": {
    "collapsed": false
   },
   "outputs": [],
   "source": [
    "gm_mask = cortex.db.get_mask(subject, xfmname, 'thick').astype(float)\n",
    "nbsave(Nifti1Image(gm_mask.T, input_affine), '../database/'+subject+'/gm_mask_funcref.nii')"
   ]
  },
  {
   "cell_type": "markdown",
   "metadata": {},
   "source": [
    "## Get activations"
   ]
  },
  {
   "cell_type": "code",
   "execution_count": 31,
   "metadata": {
    "collapsed": false
   },
   "outputs": [],
   "source": [
    "wm = realtimefmri.preprocessing.WMDetrend(subject=subject)"
   ]
  },
  {
   "cell_type": "code",
   "execution_count": 32,
   "metadata": {
    "collapsed": true
   },
   "outputs": [],
   "source": [
    "training_data = nbload('../database/'+subject+'/training_data.nii')"
   ]
  },
  {
   "cell_type": "code",
   "execution_count": 33,
   "metadata": {
    "collapsed": false
   },
   "outputs": [
    {
     "data": {
      "text/plain": [
       "(100, 100, 30, 311)"
      ]
     },
     "execution_count": 33,
     "metadata": {},
     "output_type": "execute_result"
    }
   ],
   "source": [
    "training_data.get_data().shape"
   ]
  },
  {
   "cell_type": "code",
   "execution_count": 34,
   "metadata": {
    "collapsed": true
   },
   "outputs": [],
   "source": [
    "ntrials = training_data.shape[-1]"
   ]
  },
  {
   "cell_type": "code",
   "execution_count": 35,
   "metadata": {
    "collapsed": false
   },
   "outputs": [
    {
     "name": "stdout",
     "output_type": "stream",
     "text": [
      "(19904, 80350)\n",
      "(19904, 12863)\n"
     ]
    }
   ],
   "source": [
    "gm_activity = np.empty((ntrials, wm.masks['gm'].sum()))\n",
    "wm_activity = np.empty((ntrials, wm.masks['wm'].sum()))\n",
    "\n",
    "print gm_activity.shape\n",
    "print wm_activity.shape"
   ]
  },
  {
   "cell_type": "code",
   "execution_count": 38,
   "metadata": {
    "collapsed": false,
    "scrolled": true
   },
   "outputs": [
    {
     "name": "stdout",
     "output_type": "stream",
     "text": [
      "311 0 inp_path 6f969168-0a8a-4015-9902-56579eda02e7.nii\n",
      "1 inp_path bbfe4c7e-cc4c-4f98-a952-df256b527ba3.nii\n",
      "2 inp_path 0ccca1eb-ba16-4f5c-84dc-2a036740580a.nii\n",
      "3 inp_path f118eb76-eda3-4ed2-b432-ce3f15c985b3.nii\n",
      "4 inp_path 0f9d5a26-10e9-49c9-b459-adbfe024b636.nii\n",
      "5 inp_path e04e89ab-5894-4895-9a58-8e029ebff01f.nii\n",
      "6 inp_path a178f97d-6b1c-46ad-b918-4711890c5fe0.nii\n",
      "7 inp_path 44ce0e41-78d2-431e-9235-595939bdeac0.nii\n",
      "8 inp_path a304c4cc-945b-4662-9700-65434ed4b4bf.nii\n",
      "9 inp_path 330d0829-8fb2-44c9-8a0b-b34b7efe16ee.nii\n",
      "10 inp_path f95235c7-d3ef-4201-8a23-5e2f2a2bdac8.nii\n",
      "11 inp_path 97e4e690-9da0-4492-8887-04a127c7e7eb.nii\n",
      "12 inp_path d9676d73-d282-4b45-9b40-7ade2bcf8086.nii\n",
      "13 inp_path 10b08235-40cc-4412-bebc-6d182ccbc75a.nii\n",
      "14 inp_path 91c8b166-f8e6-462d-b2d7-29746c22093e.nii\n",
      "15 inp_path 3619f8ed-a269-4bec-95d2-0952a49c1943.nii\n",
      "16 inp_path 3cc9af69-d7d5-4cc2-9058-e7cbcd7b411c.nii\n",
      "17 inp_path 9432066a-6121-4ece-b90a-470bcdbe67a8.nii\n",
      "18 inp_path eb0fdc38-60e4-4cf6-a9d4-7c74e2ab804a.nii\n",
      "19 inp_path 0e16168d-8508-4f3e-9328-ebab4414366c.nii\n",
      "20 inp_path 1fe53b47-2f38-4d4a-9a29-9149a318ced9.nii\n",
      "21 inp_path 6c04e7be-0b96-4eaa-a56b-933ba77bf412.nii\n",
      "22 inp_path 3dcee85c-b1ba-4bf5-99e5-5d7ae7ae5d9f.nii\n",
      "23 inp_path c81c6d58-545e-47d9-87d0-1ec627d00bfa.nii\n",
      "24 inp_path d8a2a183-2a4b-4bb7-b371-3e640ddef9da.nii\n",
      "25 inp_path 09e9a988-dc7c-4104-a6ce-05961e94a971.nii\n",
      "26 inp_path fadb1229-7848-43f3-88bf-4fdfdd21c3ee.nii\n",
      "27 inp_path 3170256f-79c4-432e-8a17-727c709e4ee1.nii\n",
      "28 inp_path 8542b2f4-d5e3-42f3-b751-737e0e425c64.nii\n",
      "29 inp_path 29b75681-3f05-4d66-a1a2-595df332491d.nii\n",
      "30 inp_path ffccecca-5c3c-4186-8802-17c4008a16a8.nii\n",
      "31 inp_path 8f1c7631-ff2f-422a-a267-ecb69789d375.nii\n",
      "32 inp_path 9453af11-1f7b-414b-bea8-edaae8c964ce.nii\n",
      "33 inp_path 2198d71e-a7f1-447b-87d6-90dde4dc9698.nii\n",
      "34 inp_path dda8f48e-e9de-4d83-a63b-e6127dc740ee.nii\n",
      "35 inp_path ec18b5d9-b9ce-4f5b-875e-6e8133e4066d.nii\n",
      "36 inp_path 817d1c17-4bda-4686-adf9-f629cb8863e2.nii\n",
      "37 inp_path 5c8b4397-153a-4e54-8df7-e68fc8c77cd1.nii\n",
      "38 inp_path 72161486-2d7f-4b3f-899e-cd5d989695ad.nii\n",
      "39 inp_path bd0b07d2-afc6-436d-8bd6-f38902603093.nii\n",
      "40 inp_path 52206cce-fc65-4806-a9ca-e0cc092709db.nii\n",
      "41 inp_path 0139c52a-af77-4294-8208-9ba6a5ab323c.nii\n",
      "42 inp_path 2e243710-f8db-4e99-9cda-67334010752b.nii\n",
      "43 inp_path 044ae7b6-90c7-4f73-8526-56607bee943b.nii\n",
      "44 inp_path a17ccfe1-d54f-40f2-b7ba-a0bffab89f46.nii\n",
      "45 inp_path 54da20a3-83ee-45ef-9923-1f79c7e2ff89.nii\n",
      "46 inp_path fce828ac-412a-4360-a17b-1a43aa4493d0.nii\n",
      "47 inp_path 94f99c28-7e4e-498f-b67d-571002deb98c.nii\n",
      "48 inp_path 40d14367-ab8f-46d4-bd86-91a9c9b471b4.nii\n",
      "49 inp_path 8da29239-7f4c-4d28-8557-c218f3cad39d.nii\n",
      "50 inp_path f47694c1-2fe2-4efe-85dd-54fef3044c13.nii\n",
      "51 inp_path e25ec1a8-44ee-43d3-918d-1482b004fa88.nii\n",
      "52 inp_path 434095fe-089a-4836-8363-8ca3d8ff4ca3.nii\n",
      "53 inp_path 0864b701-765a-48ab-bf21-42880e6d3e67.nii\n",
      "54 inp_path 10de4baf-ff36-42e3-8b6d-1f585ae969dc.nii\n",
      "55 inp_path 09ac3aa4-f49f-4660-9820-0c3a7bddc022.nii\n",
      "56 inp_path 5bf52431-a809-44f4-ae24-e528ef5a3a2e.nii\n",
      "57 inp_path b9887156-7c9b-4ddf-898e-d3edf7ad31e7.nii\n",
      "58 inp_path 6518b4f7-f1fb-45eb-aff9-1332cb9075b1.nii\n",
      "59 inp_path 02c4461d-9a9f-4c81-8400-346585d6926e.nii\n",
      "60 inp_path 57b8893a-a416-4fcd-a741-9b85f1941a52.nii\n",
      "61 inp_path 0d5aaeba-ac95-417c-a459-9bfa999827bb.nii\n",
      "62 inp_path 1c4a5b9d-ad53-4f97-b3be-44ff5fd9c010.nii\n",
      "63 inp_path d57607f4-01a4-43e0-85e1-47f603f2f477.nii\n",
      "64 inp_path 081bcf1c-6996-4abc-88fb-02c33c445551.nii\n",
      "65 inp_path 8cd10e62-0ca8-4596-bcfe-00413949ed8d.nii\n",
      "66 inp_path e3d11db3-a748-4ec0-8bb8-c61eade833c1.nii\n",
      "67 inp_path e8d23503-e3ac-451a-a0c8-cfac64b6dad5.nii\n",
      "68 inp_path 05076dc5-5554-4e8f-a442-82c326220437.nii\n",
      "69 inp_path be25e513-2254-4919-beee-959edf7abec5.nii\n",
      "70 inp_path cf19e5a3-e8cc-48ed-82d4-84f1f34f70a6.nii\n",
      "71 inp_path 65bb0606-5b26-42ed-a92e-585c5d9d5916.nii\n",
      "72 inp_path 378d2d59-4f99-4200-a44b-6cb030ca88dd.nii\n",
      "73 inp_path 23473766-e446-48a3-a0c5-d4d4dfd283d2.nii\n",
      "74 inp_path eddf4ecc-c5c8-403c-b9e8-bd1426fb578a.nii\n",
      "75 inp_path 668bd776-7f39-4e0e-a362-a82e7378614a.nii\n",
      "76 inp_path 0f3a9b3b-beb4-40ea-b14a-8478438fb320.nii\n",
      "77 inp_path 175112c4-3d14-4070-b5f9-aa6b68c596c1.nii\n",
      "78 inp_path dc0ad99e-5d54-456c-8f58-0e553dab689e.nii\n",
      "79 inp_path fd86b903-7115-48a1-befe-14f9c35f406c.nii\n",
      "80 inp_path d53f6f69-1d31-4020-8cdc-1784a9ab7c68.nii\n",
      "81 inp_path 0a7e48f8-aff4-4d43-8612-ac518858d56f.nii\n",
      "82 inp_path 5f4c72f8-b9ae-4787-9e37-75e28d87513d.nii\n",
      "83 inp_path 0b365ece-50d6-4b93-b80e-d7baab5ecfcb.nii\n",
      "84 inp_path aefb4e9b-507d-43a2-847d-efb2604a3a8c.nii\n",
      "85 inp_path ae06ca24-776c-42f8-baa2-11fc7ce53bd3.nii\n",
      "86 inp_path d936a5c7-2f75-47eb-ad43-69bb6b832633.nii\n",
      "87 inp_path b4769cb8-f949-49df-ad3d-e2d95297aa24.nii\n",
      "88 inp_path 662db98f-0d91-4f3e-a832-dd145e498b80.nii\n",
      "89 inp_path 3b6acdf0-c207-4b12-9e53-86c880256b3a.nii\n",
      "90 inp_path d9977c48-5ee4-4f85-8da0-c729f553a10a.nii\n",
      "91 inp_path 57d196c8-bbd4-4e73-b536-5b7ddbff56a4.nii\n",
      "92 inp_path 7dcc5fae-878b-4af3-a366-d2725de4e213.nii\n",
      "93 inp_path 349ba8b6-4c16-4bca-a4ac-c33a593ecfce.nii\n",
      "94 inp_path 8e6dd0a2-eee4-448e-b064-d8e622f0ad8e.nii\n",
      "95 inp_path f61956a7-082f-4833-b080-8c7d5b9cbe01.nii\n",
      "96 inp_path c179986e-9dc1-4fa5-90af-84b5c2b6b932.nii\n",
      "97 inp_path 23b83e85-b4ad-4e2a-8edb-3b893db0f500.nii\n",
      "98 inp_path 2703360c-945e-4b44-8029-dd7b3d201ba3.nii\n",
      "99 inp_path 4a5b9ac1-4765-4806-9b48-310d2d988821.nii\n",
      "100 inp_path 9c378e69-939d-4193-a1de-7463e0dd69b1.nii\n",
      "101 inp_path 5a9bb9c2-dbd9-497b-958b-14e1b9982d93.nii\n",
      "102 inp_path e45cb25d-8a32-43a8-bea2-c9cf962cc4aa.nii\n",
      "103 inp_path b76f277f-8a84-47d2-ab87-4b5bae691760.nii\n",
      "104 inp_path fe2488f2-18ba-4895-8c87-eff32334a9b4.nii\n",
      "105 inp_path 376957ad-bd6b-4646-94cd-4ee85b0ea961.nii\n",
      "106 inp_path 6751e038-cf86-4d3e-b6d9-ad35df382e62.nii\n",
      "107 inp_path 985e7062-b880-49fe-bf7d-988df43b52f7.nii\n",
      "108 inp_path 1d5ab328-21e2-425a-a9ac-59c56debf337.nii\n",
      "109 inp_path 6888215e-847c-4116-ae8c-636b018fb798.nii\n",
      "110 inp_path 87ebd034-ef0d-49df-ba2a-51c107a5e6bb.nii\n",
      "111 inp_path 2a844a5e-ec9a-4f73-abb4-beb35f26cbf9.nii\n",
      "112 inp_path bb1c4450-6088-4b79-a0fb-f3a0c8b2430e.nii\n",
      "113 inp_path 2a8a1643-8a92-4dd7-8eb1-e8cbda5bb511.nii\n",
      "114 inp_path 5ccd91f6-0523-4480-b5a6-ddc7283dd04f.nii\n",
      "115 inp_path 9c4c76ff-bd0e-4ffe-94ff-46e156488179.nii\n",
      "116 inp_path d5ab97bc-cc0a-4530-abd3-a860fcdcf08e.nii\n",
      "117 inp_path 74b3bdac-7765-456e-bc94-c4167c5f8427.nii\n",
      "118 inp_path 0b0dd77d-284d-473b-bf48-7cc0aef2c08c.nii\n",
      "119 inp_path 04258134-f100-4a38-8a0e-a2748506df9d.nii\n",
      "120 inp_path 93a09ccb-e1d9-49e6-9829-b2127efc4846.nii\n",
      "121 inp_path 5f15c1d7-19a4-43b3-ad0a-906670096b16.nii\n",
      "122 inp_path 55da4f46-e67f-41e4-85b4-88026f2b80de.nii\n",
      "123 inp_path 09f1bc36-086a-4f46-beba-2b75a00b616d.nii\n",
      "124 inp_path 4f03a6c2-7bce-44d2-af36-c7ba3c83c770.nii\n",
      "125 inp_path 612411a8-7345-4977-be74-8dbc2fb4c349.nii\n",
      "126 inp_path eb57b953-91c0-40a8-9e0d-778738cf7ce3.nii\n",
      "127 inp_path 1527737c-f3c4-4a4a-88be-c9ca2383a87e.nii\n",
      "128 inp_path 07501af9-c46c-47c0-b6bc-2d8f28942033.nii\n",
      "129 inp_path 38cf309d-2f3e-4ff2-bff2-77ea7dfefda3.nii\n",
      "130 inp_path 19fd495d-3072-42f1-8749-a1664b14e098.nii\n",
      "131 inp_path 0d3848af-96ef-419b-b5e0-e2f76917eae0.nii\n",
      "132 inp_path 7dffe739-8a6a-44a1-882e-d7def519a907.nii\n",
      "133 inp_path db7795de-4eb9-4920-a292-fb193c7af164.nii\n",
      "134 inp_path 4e8d042a-5c23-46b2-a112-179bb9e4b7ed.nii\n",
      "135 inp_path 08f67cb4-fb29-4a8c-b37b-f4b7a4f9a0a6.nii\n",
      "136 inp_path 0055258f-39c6-4dd5-b45d-d410162c77f8.nii\n",
      "137 inp_path 8f282a48-c3be-4425-a194-0d230dc9094f.nii\n",
      "138 inp_path db2b08ee-f988-4829-a115-8d31690cf343.nii\n",
      "139 inp_path a76af171-023e-4096-b744-0d7060d842df.nii\n",
      "140 inp_path 127b4f02-d02f-4b24-9264-b88db00142e8.nii\n",
      "141 inp_path 6260bec9-a511-4ec5-b91d-e06da3016ba1.nii\n",
      "142 inp_path 784c5669-e6f2-41f3-bdf3-a078c39afe83.nii\n",
      "143 inp_path c0e634af-08a1-4a09-8b30-a603b2efb047.nii\n",
      "144 inp_path 8e34a14c-0252-40a8-88e7-79341c7893aa.nii\n",
      "145 inp_path 99c6a437-222d-45f0-b58e-67ba65a30143.nii\n",
      "146 inp_path 41d3667e-0f54-416c-b350-daf930632ba1.nii\n",
      "147 inp_path 7495f0fe-ccae-4142-a44f-a08b07b9e670.nii\n",
      "148 inp_path 5e1e37e7-fa45-437a-9127-bd758c2c9e56.nii\n",
      "149 inp_path 2bed72ba-285f-42ae-a561-4eb33a3aa4dd.nii\n",
      "150 inp_path be7079e4-b510-415a-8a20-d25f48eebcc0.nii\n",
      "151 inp_path 8de50d14-e444-49f9-8122-e0cd949e20e1.nii\n",
      "152 inp_path ccdaf3ac-b9e7-4f7f-9261-9c97cc453bd5.nii\n",
      "153 inp_path 0735c24c-502f-43b6-9367-86746b8ddd1f.nii\n",
      "154 inp_path d5c8d803-fcdf-4f7f-8307-170936fe66fd.nii\n",
      "155 inp_path 03d23832-7fac-4f15-ac11-d62c0c7fab93.nii\n",
      "156 inp_path 275782de-c36b-46e6-b937-8e3eb1ebc846.nii\n",
      "157 inp_path cf5eaa3a-88b6-4ad5-b42d-5445c553055f.nii\n",
      "158 inp_path 7bd290ea-a03c-42ec-9dc3-d525b320e29e.nii\n",
      "159 inp_path 6a484b59-886c-46ac-a6b5-8111b094857b.nii\n",
      "160 inp_path d6f50312-3068-4e73-8d18-b615a56ba28e.nii\n",
      "161 inp_path 2020f9fb-3592-45eb-8dde-c1063d04b181.nii\n",
      "162 inp_path e962627d-aa66-4327-8cdd-86545fff02cc.nii\n",
      "163 inp_path eeea40ea-11bb-47c2-bd7c-3cbb26d51e2b.nii\n",
      "164 inp_path ee0c872e-e50d-4af0-b3c3-cf9113ea1c12.nii\n",
      "165 inp_path c6b3cb53-15aa-49b0-ae53-11b401e185b8.nii\n",
      "166 inp_path 53a1eb61-7570-41bd-b013-7460041e9683.nii\n",
      "167 inp_path 85223e01-4b77-4bf3-91f0-60ce5052d10b.nii\n",
      "168 inp_path 4f880ce8-4490-4fbe-88fd-d83507c027e9.nii\n",
      "169 inp_path 441d5d5a-502e-4581-8b44-9d17d451b0a3.nii\n",
      "170 inp_path 7c5dabf3-1b68-4a40-a178-2692b76404e2.nii\n",
      "171 inp_path 72193f61-4628-494c-a994-ade340ad9a33.nii\n",
      "172 inp_path e544e2c4-2c17-434a-a73a-a165d73f9f96.nii\n",
      "173 inp_path 804d5496-8c02-4ccd-99e8-384a6721a0ee.nii\n",
      "174 inp_path 3a861d56-193f-4564-a23d-d85a8b5c2b32.nii\n",
      "175 inp_path 53e1a901-a06c-4819-88ea-ddd08f6c24f6.nii\n",
      "176 inp_path 763cb82e-3d82-496d-bc47-e06316d8d044.nii\n",
      "177 inp_path 5c1ac10d-5937-45e5-acb4-1a1b22bc21a7.nii\n",
      "178 inp_path e778f42f-6364-4f34-9ff6-0180ee14e45d.nii\n",
      "179 inp_path 49556e64-a3a6-4f79-8819-aaaf27b05825.nii\n",
      "180 inp_path b9658c6f-2d60-4330-bd9b-bf44a80803b4.nii\n",
      "181 inp_path 89b71c20-c188-4201-a914-8e257d4d8c8d.nii\n",
      "182 inp_path 9a5c4adc-23fe-4969-a001-fc730ec8f63e.nii\n",
      "183 inp_path 0602a0d4-d3db-447b-a2fa-bc66906f25bb.nii\n",
      "184 inp_path 52b0f89b-4e9a-4487-89e5-360be8a00b89.nii\n",
      "185 inp_path 4ff272da-eb96-4143-8f6f-be37c3420c32.nii\n",
      "186 inp_path 95508832-6357-410b-980c-ea5a4e376271.nii\n",
      "187 inp_path 64d061fa-ef6e-47e6-961c-961c95b067da.nii\n",
      "188 inp_path 14468452-e056-4119-bcec-c50512ec6b0b.nii\n",
      "189 inp_path 46998950-bfda-4571-914c-13846f77d661.nii\n",
      "190 inp_path a5047c6a-0882-44c9-9659-29e4d4add392.nii\n",
      "191 inp_path ee47fea2-c051-4552-b344-d6c7c3d2dd8c.nii\n",
      "192 inp_path c1d57f4b-043b-42a7-892f-5a0eb40ad26d.nii\n",
      "193 inp_path 8cf6e95f-cde1-4c0c-a74e-1b082715eeb4.nii\n",
      "194 inp_path 2aaa6178-b504-436e-8595-41f2f5e229b2.nii\n",
      "195 inp_path a82d7e14-cc9a-4268-8d6c-f6efe2d0f32e.nii\n",
      "196 inp_path 6f8ea9f2-72ec-4680-8360-75663fb4635e.nii\n",
      "197 inp_path 67fd7bcb-d764-4f39-89c9-aff79d1d00e9.nii\n",
      "198 inp_path 878891e1-f1f9-403f-a184-96fbe3986e5c.nii\n",
      "199 inp_path b503a407-bd2c-4c5f-82d8-2fe700a92208.nii\n",
      "200 inp_path 4247c93c-3a33-4e83-abca-2fdfb3f0e391.nii\n",
      "201 inp_path 436fae59-5793-4298-8e64-5cfebf07a47f.nii\n",
      "202 inp_path 4d747f98-5601-47f0-a448-5d7009f2adbd.nii\n",
      "203 inp_path 6699156a-e1d7-4210-9e52-ab24d5597ee7.nii\n",
      "204 inp_path a4d57b46-3c5e-491d-afc3-0f8e4d1d2719.nii\n",
      "205 inp_path 2f9f79cd-f0cf-4ccd-a08f-9738f934003c.nii\n",
      "206 inp_path d36ad88d-8861-4c2f-8dd9-4732e1f077fd.nii\n",
      "207 inp_path c7cc0811-40df-4e58-acaa-5e2a172d3983.nii\n",
      "208 inp_path 3534e722-561c-4f51-8f00-1aaf2d7ffe61.nii\n",
      "209 inp_path 310dad77-8e5b-4655-89e9-aa9e053c5b86.nii\n",
      "210 inp_path e2850a33-52c4-4c06-92db-891d663f2e09.nii\n",
      "211 inp_path 45e82b3d-70d2-46be-99c1-2ccf300a8154.nii\n",
      "212 inp_path 2d904d79-977a-41ad-acd8-5f8c4caf50b8.nii\n",
      "213 inp_path 4f90b262-e63e-4fa4-908f-ac19f46ea8ea.nii\n",
      "214 inp_path 10c8e3c7-4c51-44b5-90af-6d980513d8a0.nii\n",
      "215 inp_path 8de2cf6a-c329-4bbb-8eb5-55ab2b73302e.nii\n",
      "216 inp_path bc9ef48b-688d-4943-b296-b29818844519.nii\n",
      "217 inp_path 3f8c460b-387d-4db7-9a12-62e914c04569.nii\n",
      "218 inp_path bae549c6-e12f-4b35-8fe9-6cf408c079d8.nii\n",
      "219 inp_path 1fb8f268-f1e0-4708-ad77-f25fdb0f5998.nii\n",
      "220 inp_path 903b1bc5-614a-4be4-9611-7be7dc9f602c.nii\n",
      "221 inp_path 1ec959cd-c186-438c-9e6e-f4d80e36763d.nii\n",
      "222 inp_path b6cd3278-ab58-4c0a-8591-0419e1f34b0c.nii\n",
      "223 inp_path 733e6068-3b53-4b82-b4f4-7da233c93768.nii\n",
      "224 inp_path a82228e4-5fd2-45fc-a1fd-84a1d9755017.nii\n",
      "225 inp_path 749e34ca-3a7e-43da-90be-3800ee085bec.nii\n",
      "226 inp_path 50c14a86-bacc-410c-a0f4-cc4baeb5680b.nii\n",
      "227 inp_path 208947f4-c756-4f5e-b1a3-85fa91175141.nii\n",
      "228 inp_path 85d040d5-00e8-4ac0-9438-cdf8b247bbce.nii\n",
      "229 inp_path a7938b2b-e444-4855-9851-ebe395d3945f.nii\n",
      "230 inp_path 79180367-b419-4c42-bfbd-ce320a95e3b1.nii\n",
      "231 inp_path ff8ed7ce-e032-42a8-9700-9647ca0f554e.nii\n",
      "232 inp_path 5c0cb813-b16e-4f74-a768-507990426e1c.nii\n",
      "233 inp_path e2888de0-bd7b-4ed8-a98c-ce9e7ce105d0.nii\n",
      "234 inp_path 56f83213-104f-4a91-b0c1-c212e00dbbe2.nii\n",
      "235 inp_path 04fbb78f-a424-4ed4-b002-5ac29e8667b5.nii\n",
      "236 inp_path f20bb777-6ad2-45c6-a457-445df4408564.nii\n",
      "237 inp_path 0b123ff8-fbcc-4c08-a1a1-4fae68fc3b29.nii\n",
      "238 inp_path 01e6fbbe-e28e-4bd4-bc63-c999a862e6a2.nii\n",
      "239 inp_path add00943-6485-4ea6-bf21-f50d7e7e04e9.nii\n",
      "240 inp_path e2095b3d-b540-4c27-a32c-ab69dde23a31.nii\n",
      "241 inp_path c9ae79ac-9f14-4ce6-b447-ad9fb42aea3a.nii\n",
      "242 inp_path 05e845a8-dd07-4510-8d71-dad0ef73105b.nii\n",
      "243 inp_path 73d8173b-d83c-4305-a3fb-c1f7cf4c2127.nii\n",
      "244 inp_path 5faaaa0f-915a-4b4f-a72a-538acb18f945.nii\n",
      "245 inp_path f4f5d9f7-0663-49bf-9cbb-8a6df36705d6.nii\n",
      "246 inp_path 427e1c45-3d15-424f-9fdc-c7ad20704aeb.nii\n",
      "247 inp_path 76d91107-5df0-4030-ba16-7c85cae7a493.nii\n",
      "248 inp_path 7e24163f-2036-4b14-b229-ec374558ff14.nii\n",
      "249 inp_path 6e6fc9ee-4c6c-4b3b-a7bd-ded815e44127.nii\n",
      "250 inp_path 5cd7f91a-0f3d-4d6e-94f4-851b6e2a3745.nii\n",
      "251 inp_path 5dcf155b-281b-4505-a5a0-cf01cf3bb6cf.nii\n",
      "252 inp_path f81df8c5-65d3-484e-b549-3b1741c65534.nii\n",
      "253 inp_path e223fc11-90b7-437b-b9ff-130d976471ca.nii\n",
      "254 inp_path ed985ad3-ec05-40f2-b7db-6c3d04b48d91.nii\n",
      "255 inp_path 4d809b77-f138-4744-a07a-914f52b4749e.nii\n",
      "256 inp_path 05d0f616-9a7a-4199-aaeb-f6b05343b862.nii\n",
      "257 inp_path a209f3b3-dd7d-4ce4-a18e-9f258384f88d.nii\n",
      "258 inp_path 661207d1-64f3-4f66-b7e3-0b06e59f2280.nii\n",
      "259 inp_path 3f2cce58-9b5f-4d2e-826b-217f1e695427.nii\n",
      "260 inp_path 1967fc0f-69f7-4d7d-af33-addbca05cf4c.nii\n",
      "261 inp_path 0e9d349b-1997-4f79-8c76-5e30b1f8cef6.nii\n",
      "262 inp_path 2391da8a-dfcc-4914-9b4d-5a2050af482e.nii\n",
      "263 inp_path 0df3e829-ff6e-4ca3-b9f7-ad9c18c6ff31.nii\n",
      "264 inp_path b7b1be54-a985-41e5-a327-b49b5b104c05.nii\n",
      "265 inp_path 3e8796b4-1ba7-4f82-ba31-bd0acbd23152.nii\n",
      "266 inp_path b3c83da3-fecb-4ae4-a49f-dcbbd2becb49.nii\n",
      "267 inp_path fe3fe8ed-9d74-48d3-9efb-e2d7628282cd.nii\n",
      "268 inp_path 3bf9195f-2311-46f6-b845-10a2d2ed594e.nii\n",
      "269 inp_path 7a8729b9-c94e-4753-a62c-55cd318421f9.nii\n",
      "270 inp_path 7dc0d993-8075-4247-ae7a-6c62df8782a8.nii\n",
      "271 inp_path def11875-796d-4ea5-af35-58eb6752017a.nii\n",
      "272 inp_path 98337376-bd21-45d0-bc5d-8050f31e131d.nii\n",
      "273 inp_path 968805d3-79d4-4989-a29e-4faba1db8422.nii\n",
      "274 inp_path 518fe3cc-6f29-4aa2-9f36-27832bab6a5b.nii\n",
      "275 inp_path 1a55f488-ff93-4c20-a1a0-6f408b280c5c.nii\n",
      "276 inp_path 962a9c99-1b3c-4488-8b12-3d116a10392b.nii\n",
      "277 inp_path adb6be3f-4ec1-411e-a6e6-374a06d28c1d.nii\n",
      "278 inp_path b7a723fe-c3d9-425c-bed1-b198011df01d.nii\n",
      "279 inp_path 2df9bc64-f36b-4dc9-b29d-58f4498ee37d.nii\n",
      "280 inp_path 246ab4de-79d3-403b-8e20-a2edd41967f4.nii\n",
      "281 inp_path 69d01bcc-7091-4a65-b810-837afa2f897d.nii\n",
      "282 inp_path 100ce4cf-48d8-4ae0-933a-dce426f6d956.nii\n",
      "283 inp_path af096453-8e14-4cca-b13c-b5a8083eb48e.nii\n",
      "284 inp_path 56458de8-b249-4049-b7b4-2445a125a665.nii\n",
      "285 inp_path 1d3abc72-37c7-461d-ae27-eef7c4bf831c.nii\n",
      "286 inp_path 284a2d10-88e0-440e-b823-faded8e9b9fd.nii\n",
      "287 inp_path 3aa06453-6631-43c8-915d-7c99ee8d1e7f.nii\n",
      "288 inp_path 0ad7af15-0da5-4dd9-9ddd-e4c47ea30773.nii\n",
      "289 inp_path 42db7f25-9468-4b8a-80d3-f339e0935326.nii\n",
      "290 inp_path a21d780d-93ee-41dd-b6a2-1dbf9e3c1b22.nii\n",
      "291 inp_path 626bcce0-e059-4715-9075-77499d3459c3.nii\n",
      "292 inp_path de0ec9bd-0166-44ab-b1f7-94fc65f1b839.nii\n",
      "293 inp_path 82cb67f3-65d4-4d11-91b5-716064cfd698.nii\n",
      "294 inp_path cb30be92-93f7-434b-b731-64583b20bafd.nii\n",
      "295 inp_path 3ff1dc17-5c66-4f19-8346-69f5b859b570.nii\n",
      "296 inp_path 00993bbb-af70-43ef-9efa-05671a01775f.nii\n",
      "297 inp_path 07d3f5ed-5167-4e71-8c7b-d8efc0ed083d.nii\n",
      "298 inp_path 70f0bd95-0004-4417-bfe3-06bcd19cf886.nii\n",
      "299 inp_path f6c3fda8-d0bf-4af2-bf96-2950eea09545.nii\n",
      "300 inp_path 0d5165c5-f158-4784-918f-7aabf6b01d17.nii\n",
      "301 inp_path fadd6fb5-e145-4967-929a-70fa8897ace6.nii\n",
      "302 inp_path 5ac14b20-7528-4c40-a76f-7a47db20e24f.nii\n",
      "303 inp_path d4c88b66-5236-4898-aae7-0c2b1dfc32d1.nii\n",
      "304 inp_path 7ff9c50a-517e-4176-b6fe-f7cbd6323a73.nii\n",
      "305 inp_path 547f2021-52fd-4854-912d-c35af69c10f2.nii\n",
      "306 inp_path a5a0e3a6-a514-4710-b619-71d519026e3e.nii\n",
      "307 inp_path d9b76989-4435-4c29-91c2-5455eedac43c.nii\n",
      "308 inp_path f85e63ee-d801-4a10-9173-85b9a5439284.nii\n",
      "309 inp_path d3082efe-8515-410f-838d-d47fa994d087.nii\n",
      "310 inp_path 46773121-f7f7-4f1a-943a-51e4464da1ab.nii\n"
     ]
    }
   ],
   "source": [
    "i = 0\n",
    "print ntrials,\n",
    "for i in range(ntrials):\n",
    "    print i,\n",
    "    volume = training_data.get_data()[...,i]\n",
    "    activity = wm.get_activity_in_masks(volume)\n",
    "    gm_activity[i,:] = activity['gm']\n",
    "    wm_activity[i,:] = activity['wm']\n",
    "    i += 1"
   ]
  },
  {
   "cell_type": "code",
   "execution_count": 42,
   "metadata": {
    "collapsed": false
   },
   "outputs": [],
   "source": [
    "np.savez('../database/'+subject+'/wmd_train.npz', wm=wm_activity, gm=gm_activity)"
   ]
  },
  {
   "cell_type": "code",
   "execution_count": null,
   "metadata": {
    "collapsed": true
   },
   "outputs": [],
   "source": [
    "tmp = np.load('../database/'+subject+'/')"
   ]
  },
  {
   "cell_type": "code",
   "execution_count": 45,
   "metadata": {
    "collapsed": true
   },
   "outputs": [],
   "source": [
    "model, pca = wm.train(gm_activity, wm_activity)"
   ]
  },
  {
   "cell_type": "code",
   "execution_count": 84,
   "metadata": {
    "collapsed": true
   },
   "outputs": [],
   "source": [
    "import pandas as pd"
   ]
  },
  {
   "cell_type": "code",
   "execution_count": 15,
   "metadata": {
    "collapsed": false
   },
   "outputs": [],
   "source": [
    "index = pd.MultiIndex.from_tuples(zip(\n",
    "        map(lambda x: os.path.split(x)[-1], scans),\n",
    "        map(lambda x: os.path.split(x)[-1], timepoints)\n",
    "    ), names=['scan', 'timepoint'])\n",
    "\n",
    "gm_df = pd.DataFrame(gm_activity, index=index)\n",
    "wm_df = pd.DataFrame(wm_activity, index=index)"
   ]
  },
  {
   "cell_type": "code",
   "execution_count": 16,
   "metadata": {
    "collapsed": false
   },
   "outputs": [
    {
     "data": {
      "text/html": [
       "<div>\n",
       "<table border=\"1\" class=\"dataframe\">\n",
       "  <thead>\n",
       "    <tr style=\"text-align: right;\">\n",
       "      <th></th>\n",
       "      <th></th>\n",
       "      <th>0</th>\n",
       "      <th>1</th>\n",
       "      <th>2</th>\n",
       "      <th>3</th>\n",
       "      <th>4</th>\n",
       "      <th>5</th>\n",
       "      <th>6</th>\n",
       "      <th>7</th>\n",
       "      <th>8</th>\n",
       "      <th>9</th>\n",
       "      <th>...</th>\n",
       "      <th>69355</th>\n",
       "      <th>69356</th>\n",
       "      <th>69357</th>\n",
       "      <th>69358</th>\n",
       "      <th>69359</th>\n",
       "      <th>69360</th>\n",
       "      <th>69361</th>\n",
       "      <th>69362</th>\n",
       "      <th>69363</th>\n",
       "      <th>69364</th>\n",
       "    </tr>\n",
       "    <tr>\n",
       "      <th>scan</th>\n",
       "      <th>timepoint</th>\n",
       "      <th></th>\n",
       "      <th></th>\n",
       "      <th></th>\n",
       "      <th></th>\n",
       "      <th></th>\n",
       "      <th></th>\n",
       "      <th></th>\n",
       "      <th></th>\n",
       "      <th></th>\n",
       "      <th></th>\n",
       "      <th></th>\n",
       "      <th></th>\n",
       "      <th></th>\n",
       "      <th></th>\n",
       "      <th></th>\n",
       "      <th></th>\n",
       "      <th></th>\n",
       "      <th></th>\n",
       "      <th></th>\n",
       "      <th></th>\n",
       "      <th></th>\n",
       "    </tr>\n",
       "  </thead>\n",
       "  <tbody>\n",
       "    <tr>\n",
       "      <th rowspan=\"5\" valign=\"top\">pixeldata_07</th>\n",
       "      <th>20140802JG_20140802_001_007_mb1_r11a_24sl_2000ms_0008.PixelData</th>\n",
       "      <td>28.915894</td>\n",
       "      <td>22.961060</td>\n",
       "      <td>25.981955</td>\n",
       "      <td>26.213217</td>\n",
       "      <td>26.271200</td>\n",
       "      <td>25.562927</td>\n",
       "      <td>33.979301</td>\n",
       "      <td>49.383175</td>\n",
       "      <td>40.166695</td>\n",
       "      <td>29.223389</td>\n",
       "      <td>...</td>\n",
       "      <td>34.119591</td>\n",
       "      <td>43.520935</td>\n",
       "      <td>34.939636</td>\n",
       "      <td>39.369122</td>\n",
       "      <td>27.918682</td>\n",
       "      <td>57.200989</td>\n",
       "      <td>41.338890</td>\n",
       "      <td>37.141766</td>\n",
       "      <td>57.703026</td>\n",
       "      <td>40.251793</td>\n",
       "    </tr>\n",
       "    <tr>\n",
       "      <th>20140802JG_20140802_001_007_mb1_r11a_24sl_2000ms_0009.PixelData</th>\n",
       "      <td>32.878357</td>\n",
       "      <td>32.088238</td>\n",
       "      <td>28.870239</td>\n",
       "      <td>24.852825</td>\n",
       "      <td>29.927734</td>\n",
       "      <td>22.840618</td>\n",
       "      <td>25.665466</td>\n",
       "      <td>42.703827</td>\n",
       "      <td>36.091625</td>\n",
       "      <td>29.609844</td>\n",
       "      <td>...</td>\n",
       "      <td>34.666222</td>\n",
       "      <td>38.454327</td>\n",
       "      <td>32.056580</td>\n",
       "      <td>37.239929</td>\n",
       "      <td>28.941223</td>\n",
       "      <td>59.354046</td>\n",
       "      <td>44.773376</td>\n",
       "      <td>50.907310</td>\n",
       "      <td>46.649254</td>\n",
       "      <td>42.495361</td>\n",
       "    </tr>\n",
       "    <tr>\n",
       "      <th>20140802JG_20140802_001_007_mb1_r11a_24sl_2000ms_0010.PixelData</th>\n",
       "      <td>26.144224</td>\n",
       "      <td>22.952639</td>\n",
       "      <td>24.140203</td>\n",
       "      <td>29.955080</td>\n",
       "      <td>37.549473</td>\n",
       "      <td>27.501450</td>\n",
       "      <td>31.879185</td>\n",
       "      <td>44.266399</td>\n",
       "      <td>31.217905</td>\n",
       "      <td>29.346592</td>\n",
       "      <td>...</td>\n",
       "      <td>39.005211</td>\n",
       "      <td>36.843395</td>\n",
       "      <td>29.368036</td>\n",
       "      <td>31.101564</td>\n",
       "      <td>29.544403</td>\n",
       "      <td>50.311298</td>\n",
       "      <td>39.716961</td>\n",
       "      <td>42.660320</td>\n",
       "      <td>47.471325</td>\n",
       "      <td>45.711102</td>\n",
       "    </tr>\n",
       "    <tr>\n",
       "      <th>20140802JG_20140802_001_007_mb1_r11a_24sl_2000ms_0011.PixelData</th>\n",
       "      <td>26.359467</td>\n",
       "      <td>20.718096</td>\n",
       "      <td>24.800652</td>\n",
       "      <td>29.327560</td>\n",
       "      <td>30.369879</td>\n",
       "      <td>26.995333</td>\n",
       "      <td>37.492733</td>\n",
       "      <td>45.727257</td>\n",
       "      <td>34.635151</td>\n",
       "      <td>30.011042</td>\n",
       "      <td>...</td>\n",
       "      <td>34.126484</td>\n",
       "      <td>34.552204</td>\n",
       "      <td>39.983253</td>\n",
       "      <td>40.166271</td>\n",
       "      <td>27.126320</td>\n",
       "      <td>59.296333</td>\n",
       "      <td>40.310684</td>\n",
       "      <td>42.349693</td>\n",
       "      <td>60.180031</td>\n",
       "      <td>45.738586</td>\n",
       "    </tr>\n",
       "    <tr>\n",
       "      <th>20140802JG_20140802_001_007_mb1_r11a_24sl_2000ms_0012.PixelData</th>\n",
       "      <td>34.988949</td>\n",
       "      <td>25.678940</td>\n",
       "      <td>26.903280</td>\n",
       "      <td>25.499571</td>\n",
       "      <td>28.475147</td>\n",
       "      <td>22.413933</td>\n",
       "      <td>31.080015</td>\n",
       "      <td>40.953194</td>\n",
       "      <td>33.246582</td>\n",
       "      <td>31.609270</td>\n",
       "      <td>...</td>\n",
       "      <td>33.183041</td>\n",
       "      <td>32.908760</td>\n",
       "      <td>29.682814</td>\n",
       "      <td>42.803356</td>\n",
       "      <td>38.536362</td>\n",
       "      <td>58.571911</td>\n",
       "      <td>39.379528</td>\n",
       "      <td>42.167873</td>\n",
       "      <td>56.463024</td>\n",
       "      <td>39.737274</td>\n",
       "    </tr>\n",
       "  </tbody>\n",
       "</table>\n",
       "<p>5 rows × 69365 columns</p>\n",
       "</div>"
      ],
      "text/plain": [
       "                                                                     0      \\\n",
       "scan         timepoint                                                       \n",
       "pixeldata_07 20140802JG_20140802_001_007_mb1_r11a_24sl_2000m...  28.915894   \n",
       "             20140802JG_20140802_001_007_mb1_r11a_24sl_2000m...  32.878357   \n",
       "             20140802JG_20140802_001_007_mb1_r11a_24sl_2000m...  26.144224   \n",
       "             20140802JG_20140802_001_007_mb1_r11a_24sl_2000m...  26.359467   \n",
       "             20140802JG_20140802_001_007_mb1_r11a_24sl_2000m...  34.988949   \n",
       "\n",
       "                                                                     1      \\\n",
       "scan         timepoint                                                       \n",
       "pixeldata_07 20140802JG_20140802_001_007_mb1_r11a_24sl_2000m...  22.961060   \n",
       "             20140802JG_20140802_001_007_mb1_r11a_24sl_2000m...  32.088238   \n",
       "             20140802JG_20140802_001_007_mb1_r11a_24sl_2000m...  22.952639   \n",
       "             20140802JG_20140802_001_007_mb1_r11a_24sl_2000m...  20.718096   \n",
       "             20140802JG_20140802_001_007_mb1_r11a_24sl_2000m...  25.678940   \n",
       "\n",
       "                                                                     2      \\\n",
       "scan         timepoint                                                       \n",
       "pixeldata_07 20140802JG_20140802_001_007_mb1_r11a_24sl_2000m...  25.981955   \n",
       "             20140802JG_20140802_001_007_mb1_r11a_24sl_2000m...  28.870239   \n",
       "             20140802JG_20140802_001_007_mb1_r11a_24sl_2000m...  24.140203   \n",
       "             20140802JG_20140802_001_007_mb1_r11a_24sl_2000m...  24.800652   \n",
       "             20140802JG_20140802_001_007_mb1_r11a_24sl_2000m...  26.903280   \n",
       "\n",
       "                                                                     3      \\\n",
       "scan         timepoint                                                       \n",
       "pixeldata_07 20140802JG_20140802_001_007_mb1_r11a_24sl_2000m...  26.213217   \n",
       "             20140802JG_20140802_001_007_mb1_r11a_24sl_2000m...  24.852825   \n",
       "             20140802JG_20140802_001_007_mb1_r11a_24sl_2000m...  29.955080   \n",
       "             20140802JG_20140802_001_007_mb1_r11a_24sl_2000m...  29.327560   \n",
       "             20140802JG_20140802_001_007_mb1_r11a_24sl_2000m...  25.499571   \n",
       "\n",
       "                                                                     4      \\\n",
       "scan         timepoint                                                       \n",
       "pixeldata_07 20140802JG_20140802_001_007_mb1_r11a_24sl_2000m...  26.271200   \n",
       "             20140802JG_20140802_001_007_mb1_r11a_24sl_2000m...  29.927734   \n",
       "             20140802JG_20140802_001_007_mb1_r11a_24sl_2000m...  37.549473   \n",
       "             20140802JG_20140802_001_007_mb1_r11a_24sl_2000m...  30.369879   \n",
       "             20140802JG_20140802_001_007_mb1_r11a_24sl_2000m...  28.475147   \n",
       "\n",
       "                                                                     5      \\\n",
       "scan         timepoint                                                       \n",
       "pixeldata_07 20140802JG_20140802_001_007_mb1_r11a_24sl_2000m...  25.562927   \n",
       "             20140802JG_20140802_001_007_mb1_r11a_24sl_2000m...  22.840618   \n",
       "             20140802JG_20140802_001_007_mb1_r11a_24sl_2000m...  27.501450   \n",
       "             20140802JG_20140802_001_007_mb1_r11a_24sl_2000m...  26.995333   \n",
       "             20140802JG_20140802_001_007_mb1_r11a_24sl_2000m...  22.413933   \n",
       "\n",
       "                                                                     6      \\\n",
       "scan         timepoint                                                       \n",
       "pixeldata_07 20140802JG_20140802_001_007_mb1_r11a_24sl_2000m...  33.979301   \n",
       "             20140802JG_20140802_001_007_mb1_r11a_24sl_2000m...  25.665466   \n",
       "             20140802JG_20140802_001_007_mb1_r11a_24sl_2000m...  31.879185   \n",
       "             20140802JG_20140802_001_007_mb1_r11a_24sl_2000m...  37.492733   \n",
       "             20140802JG_20140802_001_007_mb1_r11a_24sl_2000m...  31.080015   \n",
       "\n",
       "                                                                     7      \\\n",
       "scan         timepoint                                                       \n",
       "pixeldata_07 20140802JG_20140802_001_007_mb1_r11a_24sl_2000m...  49.383175   \n",
       "             20140802JG_20140802_001_007_mb1_r11a_24sl_2000m...  42.703827   \n",
       "             20140802JG_20140802_001_007_mb1_r11a_24sl_2000m...  44.266399   \n",
       "             20140802JG_20140802_001_007_mb1_r11a_24sl_2000m...  45.727257   \n",
       "             20140802JG_20140802_001_007_mb1_r11a_24sl_2000m...  40.953194   \n",
       "\n",
       "                                                                     8      \\\n",
       "scan         timepoint                                                       \n",
       "pixeldata_07 20140802JG_20140802_001_007_mb1_r11a_24sl_2000m...  40.166695   \n",
       "             20140802JG_20140802_001_007_mb1_r11a_24sl_2000m...  36.091625   \n",
       "             20140802JG_20140802_001_007_mb1_r11a_24sl_2000m...  31.217905   \n",
       "             20140802JG_20140802_001_007_mb1_r11a_24sl_2000m...  34.635151   \n",
       "             20140802JG_20140802_001_007_mb1_r11a_24sl_2000m...  33.246582   \n",
       "\n",
       "                                                                     9      \\\n",
       "scan         timepoint                                                       \n",
       "pixeldata_07 20140802JG_20140802_001_007_mb1_r11a_24sl_2000m...  29.223389   \n",
       "             20140802JG_20140802_001_007_mb1_r11a_24sl_2000m...  29.609844   \n",
       "             20140802JG_20140802_001_007_mb1_r11a_24sl_2000m...  29.346592   \n",
       "             20140802JG_20140802_001_007_mb1_r11a_24sl_2000m...  30.011042   \n",
       "             20140802JG_20140802_001_007_mb1_r11a_24sl_2000m...  31.609270   \n",
       "\n",
       "                                                                   ...      \\\n",
       "scan         timepoint                                             ...       \n",
       "pixeldata_07 20140802JG_20140802_001_007_mb1_r11a_24sl_2000m...    ...       \n",
       "             20140802JG_20140802_001_007_mb1_r11a_24sl_2000m...    ...       \n",
       "             20140802JG_20140802_001_007_mb1_r11a_24sl_2000m...    ...       \n",
       "             20140802JG_20140802_001_007_mb1_r11a_24sl_2000m...    ...       \n",
       "             20140802JG_20140802_001_007_mb1_r11a_24sl_2000m...    ...       \n",
       "\n",
       "                                                                     69355  \\\n",
       "scan         timepoint                                                       \n",
       "pixeldata_07 20140802JG_20140802_001_007_mb1_r11a_24sl_2000m...  34.119591   \n",
       "             20140802JG_20140802_001_007_mb1_r11a_24sl_2000m...  34.666222   \n",
       "             20140802JG_20140802_001_007_mb1_r11a_24sl_2000m...  39.005211   \n",
       "             20140802JG_20140802_001_007_mb1_r11a_24sl_2000m...  34.126484   \n",
       "             20140802JG_20140802_001_007_mb1_r11a_24sl_2000m...  33.183041   \n",
       "\n",
       "                                                                     69356  \\\n",
       "scan         timepoint                                                       \n",
       "pixeldata_07 20140802JG_20140802_001_007_mb1_r11a_24sl_2000m...  43.520935   \n",
       "             20140802JG_20140802_001_007_mb1_r11a_24sl_2000m...  38.454327   \n",
       "             20140802JG_20140802_001_007_mb1_r11a_24sl_2000m...  36.843395   \n",
       "             20140802JG_20140802_001_007_mb1_r11a_24sl_2000m...  34.552204   \n",
       "             20140802JG_20140802_001_007_mb1_r11a_24sl_2000m...  32.908760   \n",
       "\n",
       "                                                                     69357  \\\n",
       "scan         timepoint                                                       \n",
       "pixeldata_07 20140802JG_20140802_001_007_mb1_r11a_24sl_2000m...  34.939636   \n",
       "             20140802JG_20140802_001_007_mb1_r11a_24sl_2000m...  32.056580   \n",
       "             20140802JG_20140802_001_007_mb1_r11a_24sl_2000m...  29.368036   \n",
       "             20140802JG_20140802_001_007_mb1_r11a_24sl_2000m...  39.983253   \n",
       "             20140802JG_20140802_001_007_mb1_r11a_24sl_2000m...  29.682814   \n",
       "\n",
       "                                                                     69358  \\\n",
       "scan         timepoint                                                       \n",
       "pixeldata_07 20140802JG_20140802_001_007_mb1_r11a_24sl_2000m...  39.369122   \n",
       "             20140802JG_20140802_001_007_mb1_r11a_24sl_2000m...  37.239929   \n",
       "             20140802JG_20140802_001_007_mb1_r11a_24sl_2000m...  31.101564   \n",
       "             20140802JG_20140802_001_007_mb1_r11a_24sl_2000m...  40.166271   \n",
       "             20140802JG_20140802_001_007_mb1_r11a_24sl_2000m...  42.803356   \n",
       "\n",
       "                                                                     69359  \\\n",
       "scan         timepoint                                                       \n",
       "pixeldata_07 20140802JG_20140802_001_007_mb1_r11a_24sl_2000m...  27.918682   \n",
       "             20140802JG_20140802_001_007_mb1_r11a_24sl_2000m...  28.941223   \n",
       "             20140802JG_20140802_001_007_mb1_r11a_24sl_2000m...  29.544403   \n",
       "             20140802JG_20140802_001_007_mb1_r11a_24sl_2000m...  27.126320   \n",
       "             20140802JG_20140802_001_007_mb1_r11a_24sl_2000m...  38.536362   \n",
       "\n",
       "                                                                     69360  \\\n",
       "scan         timepoint                                                       \n",
       "pixeldata_07 20140802JG_20140802_001_007_mb1_r11a_24sl_2000m...  57.200989   \n",
       "             20140802JG_20140802_001_007_mb1_r11a_24sl_2000m...  59.354046   \n",
       "             20140802JG_20140802_001_007_mb1_r11a_24sl_2000m...  50.311298   \n",
       "             20140802JG_20140802_001_007_mb1_r11a_24sl_2000m...  59.296333   \n",
       "             20140802JG_20140802_001_007_mb1_r11a_24sl_2000m...  58.571911   \n",
       "\n",
       "                                                                     69361  \\\n",
       "scan         timepoint                                                       \n",
       "pixeldata_07 20140802JG_20140802_001_007_mb1_r11a_24sl_2000m...  41.338890   \n",
       "             20140802JG_20140802_001_007_mb1_r11a_24sl_2000m...  44.773376   \n",
       "             20140802JG_20140802_001_007_mb1_r11a_24sl_2000m...  39.716961   \n",
       "             20140802JG_20140802_001_007_mb1_r11a_24sl_2000m...  40.310684   \n",
       "             20140802JG_20140802_001_007_mb1_r11a_24sl_2000m...  39.379528   \n",
       "\n",
       "                                                                     69362  \\\n",
       "scan         timepoint                                                       \n",
       "pixeldata_07 20140802JG_20140802_001_007_mb1_r11a_24sl_2000m...  37.141766   \n",
       "             20140802JG_20140802_001_007_mb1_r11a_24sl_2000m...  50.907310   \n",
       "             20140802JG_20140802_001_007_mb1_r11a_24sl_2000m...  42.660320   \n",
       "             20140802JG_20140802_001_007_mb1_r11a_24sl_2000m...  42.349693   \n",
       "             20140802JG_20140802_001_007_mb1_r11a_24sl_2000m...  42.167873   \n",
       "\n",
       "                                                                     69363  \\\n",
       "scan         timepoint                                                       \n",
       "pixeldata_07 20140802JG_20140802_001_007_mb1_r11a_24sl_2000m...  57.703026   \n",
       "             20140802JG_20140802_001_007_mb1_r11a_24sl_2000m...  46.649254   \n",
       "             20140802JG_20140802_001_007_mb1_r11a_24sl_2000m...  47.471325   \n",
       "             20140802JG_20140802_001_007_mb1_r11a_24sl_2000m...  60.180031   \n",
       "             20140802JG_20140802_001_007_mb1_r11a_24sl_2000m...  56.463024   \n",
       "\n",
       "                                                                     69364  \n",
       "scan         timepoint                                                      \n",
       "pixeldata_07 20140802JG_20140802_001_007_mb1_r11a_24sl_2000m...  40.251793  \n",
       "             20140802JG_20140802_001_007_mb1_r11a_24sl_2000m...  42.495361  \n",
       "             20140802JG_20140802_001_007_mb1_r11a_24sl_2000m...  45.711102  \n",
       "             20140802JG_20140802_001_007_mb1_r11a_24sl_2000m...  45.738586  \n",
       "             20140802JG_20140802_001_007_mb1_r11a_24sl_2000m...  39.737274  \n",
       "\n",
       "[5 rows x 69365 columns]"
      ]
     },
     "execution_count": 16,
     "metadata": {},
     "output_type": "execute_result"
    }
   ],
   "source": [
    "gm_df.head()"
   ]
  },
  {
   "cell_type": "markdown",
   "metadata": {},
   "source": [
    "# Cross-validation\n",
    "## Leave-one-out\n",
    "for each dataset, predict gray matter activation using a linear regression trained on remaining datasets"
   ]
  },
  {
   "cell_type": "code",
   "execution_count": 17,
   "metadata": {
    "collapsed": true
   },
   "outputs": [],
   "source": [
    "from sklearn.linear_model import LinearRegression\n",
    "from sklearn.decomposition import PCA"
   ]
  },
  {
   "cell_type": "code",
   "execution_count": 18,
   "metadata": {
    "collapsed": false
   },
   "outputs": [
    {
     "name": "stdout",
     "output_type": "stream",
     "text": [
      "../benchmark_data/pixeldata_07 pca regression done\n",
      "../benchmark_data/pixeldata_18 pca regression done\n",
      "../benchmark_data/pixeldata_28 pca regression done\n",
      "../benchmark_data/pixeldata_33 pca regression done\n",
      "../benchmark_data/pixeldata_49 pca regression done\n",
      "../benchmark_data/pixeldata_54 pca regression done\n",
      "../benchmark_data/pixeldata_61 pca regression done\n",
      "../benchmark_data/pixeldata_75 pca regression done\n",
      "../benchmark_data/pixeldata_82 pca regression done\n",
      "../benchmark_data/pixeldata_93 pca regression done\n"
     ]
    }
   ],
   "source": [
    "n_wm_pcs = 10\n",
    "\n",
    "pcas, models = [], []\n",
    "\n",
    "gm_detrend = []\n",
    "for data_dir in data_dirs:\n",
    "    test_scan = os.path.split(data_dir)[-1]\n",
    "    test_iloc = wm_df.index.get_level_values('scan')==test_scan\n",
    "    \n",
    "    wm_train = wm_df.iloc[~test_iloc].values\n",
    "    gm_train = gm_df.iloc[~test_iloc].values\n",
    "    \n",
    "    wm_test = wm_df.iloc[test_iloc].values\n",
    "    gm_test = gm_df.iloc[test_iloc].values\n",
    "\n",
    "    n_trials, n_wm_voxels = wm_train.shape\n",
    "    _, n_gm_voxels = gm_train.shape\n",
    "    print data_dir,\n",
    "    print 'pca',\n",
    "    pca = PCA(n_components=n_wm_pcs)\n",
    "    wm_train_pcs = pca.fit_transform(wm_train)\n",
    "    pcas.append(pca)\n",
    "    \n",
    "    print 'regression',\n",
    "    model = LinearRegression()\n",
    "    model.fit(wm_train_pcs, gm_train)\n",
    "    models.append(model)\n",
    "    \n",
    "    wm_test_pcs = pca.transform(wm_test)\n",
    "    gm_trend = model.predict(wm_test_pcs)\n",
    "    print 'done'\n",
    "    gm_detrend.append(gm_test-gm_trend)"
   ]
  },
  {
   "cell_type": "code",
   "execution_count": 19,
   "metadata": {
    "collapsed": false
   },
   "outputs": [],
   "source": [
    "gm_detrend = np.asarray(gm_detrend)"
   ]
  },
  {
   "cell_type": "markdown",
   "metadata": {},
   "source": [
    "save predictions"
   ]
  },
  {
   "cell_type": "code",
   "execution_count": 21,
   "metadata": {
    "collapsed": true
   },
   "outputs": [],
   "source": [
    "import cPickle\n",
    "\n",
    "with open('pcas.pkl', 'w') as f:\n",
    "    cPickle.dump(pcas, f)\n",
    "\n",
    "with open('models.pkl', 'w') as f:\n",
    "    cPickle.dump(models, f)"
   ]
  }
 ],
 "metadata": {
  "kernelspec": {
   "display_name": "Python 2",
   "language": "python",
   "name": "python2"
  },
  "language_info": {
   "codemirror_mode": {
    "name": "ipython",
    "version": 2
   },
   "file_extension": ".py",
   "mimetype": "text/x-python",
   "name": "python",
   "nbconvert_exporter": "python",
   "pygments_lexer": "ipython2",
   "version": "2.7.6"
  }
 },
 "nbformat": 4,
 "nbformat_minor": 0
}
