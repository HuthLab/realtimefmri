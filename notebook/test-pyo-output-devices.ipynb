{
 "cells": [
  {
   "cell_type": "code",
   "execution_count": 8,
   "metadata": {
    "collapsed": true
   },
   "outputs": [],
   "source": [
    "import pyo64 as pyo\n",
    "import time"
   ]
  },
  {
   "cell_type": "code",
   "execution_count": 39,
   "metadata": {
    "collapsed": false
   },
   "outputs": [
    {
     "name": "stdout",
     "output_type": "stream",
     "text": [
      "DEVICE   0\n",
      "  - INPUT :   2 channels HDA Intel PCH: ALC892 Analog (hw:0,0)\n",
      "  - OUTPUT:   2 channels HDA Intel PCH: ALC892 Analog (hw:0,0)\n",
      "\n",
      "DEVICE   1\n",
      "  - INPUT :   0 channels\n",
      "  - OUTPUT:   2 channels HDA Intel PCH: ALC892 Digital (hw:0,1)\n",
      "\n",
      "DEVICE   2\n",
      "  - INPUT :   2 channels HDA Intel PCH: ALC892 Alt Analog (hw:0,2)\n",
      "  - OUTPUT:   0 channels\n",
      "\n",
      "DEVICE   3\n",
      "  - INPUT :   0 channels\n",
      "  - OUTPUT:   8 channels HDA NVidia: HDMI 0 (hw:1,3)\n",
      "\n",
      "DEVICE   4\n",
      "  - INPUT :   0 channels\n",
      "  - OUTPUT:   8 channels HDA NVidia: HDMI 1 (hw:1,7)\n",
      "\n",
      "DEVICE   5\n",
      "  - INPUT :   0 channels\n",
      "  - OUTPUT:   8 channels HDA NVidia: HDMI 2 (hw:1,8)\n",
      "\n",
      "DEVICE   6\n",
      "  - INPUT :   0 channels\n",
      "  - OUTPUT:   8 channels HDA NVidia: HDMI 3 (hw:1,9)\n",
      "\n",
      "DEVICE   7\n",
      "  - INPUT : 128 channels sysdefault\n",
      "  - OUTPUT: 128 channels sysdefault\n",
      "\n",
      "DEVICE   8\n",
      "  - INPUT :   0 channels\n",
      "  - OUTPUT:   2 channels front\n",
      "\n",
      "DEVICE   9\n",
      "  - INPUT :   0 channels\n",
      "  - OUTPUT:   2 channels surround40\n",
      "\n",
      "DEVICE  10\n",
      "  - INPUT :   0 channels\n",
      "  - OUTPUT:   2 channels surround51\n",
      "\n",
      "DEVICE  11\n",
      "  - INPUT :   0 channels\n",
      "  - OUTPUT:   2 channels surround71\n",
      "\n",
      "DEVICE  12\n",
      "  - INPUT :   0 channels\n",
      "  - OUTPUT:   2 channels iec958\n",
      "\n",
      "DEVICE  13\n",
      "  - INPUT :   0 channels\n",
      "  - OUTPUT:   2 channels spdif\n",
      "\n",
      "DEVICE  14\n",
      "  - INPUT :  32 channels pulse\n",
      "  - OUTPUT:  32 channels pulse\n",
      "\n",
      "DEVICE  15\n",
      "  - INPUT :   0 channels\n",
      "  - OUTPUT:   2 channels dmix\n",
      "\n",
      "DEVICE  16\n",
      "  - INPUT :  32 channels default\n",
      "  - OUTPUT:  32 channels default\n",
      "\n"
     ]
    }
   ],
   "source": [
    "ndevices = pyo.pa_count_devices()\n",
    "\n",
    "input_devices = pyo.pa_get_input_devices()\n",
    "output_devices = pyo.pa_get_output_devices()\n",
    "\n",
    "for i in xrange(ndevices):\n",
    "    print 'DEVICE %3u'%i\n",
    "    print '  - INPUT : %3u channels' % (pyo.pa_get_input_max_channels(i)),\n",
    "    inp = [name for (name, num) in zip(*input_devices) if num==i]\n",
    "    if len(inp)>0:\n",
    "        print inp[0]\n",
    "    else: print\n",
    "    print '  - OUTPUT: %3u channels' % (pyo.pa_get_output_max_channels(i)),\n",
    "    outp = [name for (name, num) in zip(*output_devices) if num==i]\n",
    "    if len(outp)>0:\n",
    "        print outp[0]\n",
    "    else: print\n",
    "    print"
   ]
  },
  {
   "cell_type": "code",
   "execution_count": 6,
   "metadata": {
    "collapsed": true
   },
   "outputs": [],
   "source": [
    "i = 16"
   ]
  },
  {
   "cell_type": "code",
   "execution_count": 7,
   "metadata": {
    "collapsed": false
   },
   "outputs": [
    {
     "name": "stdout",
     "output_type": "stream",
     "text": [
      "using device 16\n",
      "1\n"
     ]
    }
   ],
   "source": [
    "s = pyo.Server()\n",
    "s.setOutputDevice(i)\n",
    "\n",
    "print 'using device %u'%i\n",
    "i+=1\n",
    "\n",
    "s.boot()\n",
    "print s.getIsBooted()\n",
    "\n",
    "synth = pyo.Sine(freq=[180,184], mul=0.005)\n",
    "synth.out()\n",
    "s.start()\n",
    "\n",
    "time.sleep(2)\n",
    "\n",
    "synth.stop()\n",
    "s.stop()\n",
    "del synth, s"
   ]
  },
  {
   "cell_type": "markdown",
   "metadata": {},
   "source": [
    "(with audio jack in rear moss-green audio port)\n",
    "\n",
    "- (0, 'HDA Intel PCH: ALC892 Analog (hw:0,0)'), boots sound\n",
    "- (1, 'HDA Intel PCH: ALC892 Digital (hw:0,1)'), boots quiet\n",
    "- (3, 'HDA NVidia: HDMI 0 (hw:1,3)'), boots quiet\n",
    "- (4, 'HDA NVidia: HDMI 1 (hw:1,7)'), boots quiet\n",
    "- (5, 'HDA NVidia: HDMI 2 (hw:1,8)'), boots quiet\n",
    "- (6, 'HDA NVidia: HDMI 3 (hw:1,9)'), boots quiet\n",
    "- (7, 'sysdefault'), boots sound\n",
    "- (8, 'front'), boots sound\n",
    "- (9, 'surround40'), boots sound\n",
    "- (10, 'surround51'), boots sound\n",
    "- (11, 'surround71'), boots sound\n",
    "- (12, 'iec958'), boots quiet\n",
    "- (13, 'spdif'), boots sound\n",
    "- (14, 'pulse'), boots sound\n",
    "- (15, 'dmix'), fails with error portaudio error in Pa_OpenStream: Invalid sample rate\n",
    "Portaudio error: Invalid sample rate\n",
    "Server not booted. but passes if start Server object with sr=48000 (default dmix sampling rate)\n",
    "\n",
    "- (16, 'default') boots sound"
   ]
  }
 ],
 "metadata": {
  "kernelspec": {
   "display_name": "Python 2",
   "language": "python",
   "name": "python2"
  },
  "language_info": {
   "codemirror_mode": {
    "name": "ipython",
    "version": 2
   },
   "file_extension": ".py",
   "mimetype": "text/x-python",
   "name": "python",
   "nbconvert_exporter": "python",
   "pygments_lexer": "ipython2",
   "version": "2.7.6"
  }
 },
 "nbformat": 4,
 "nbformat_minor": 0
}
