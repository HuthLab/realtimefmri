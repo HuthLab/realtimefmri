{
 "cells": [
  {
   "cell_type": "markdown",
   "metadata": {},
   "source": [
    "# Loading partially-preprocessed data from docdb database"
   ]
  },
  {
   "cell_type": "code",
   "execution_count": 1,
   "metadata": {
    "collapsed": true
   },
   "outputs": [],
   "source": [
    "import sys"
   ]
  },
  {
   "cell_type": "code",
   "execution_count": 2,
   "metadata": {
    "collapsed": true
   },
   "outputs": [],
   "source": [
    "sys.path.append('/auto/k1/robertg/code/docdb/')\n",
    "sys.path.append('/auto/k1/mark/Code/')"
   ]
  },
  {
   "cell_type": "code",
   "execution_count": 3,
   "metadata": {
    "collapsed": false
   },
   "outputs": [],
   "source": [
    "import os\n",
    "import docdb\n",
    "import numpy as np\n",
    "import vm_tools as vmt\n",
    "from scipy.io import loadmat"
   ]
  },
  {
   "cell_type": "code",
   "execution_count": 4,
   "metadata": {
    "collapsed": true
   },
   "outputs": [],
   "source": [
    "# 1a and 1b refer to two different tasks\n",
    "sub_list = ['AH', 'DS', 'ML', 'WH']\n",
    "exp_names = dict((sub, dict(ses1a='Sub%s_BVP_Ses1a'%sub,\n",
    "                            ses1b='Sub%s_BVP_Ses1b'%sub)) for sub in sub_list)"
   ]
  },
  {
   "cell_type": "code",
   "execution_count": 5,
   "metadata": {
    "collapsed": false
   },
   "outputs": [
    {
     "data": {
      "text/plain": [
       "{'AH': {'ses1a': 'SubAH_BVP_Ses1a', 'ses1b': 'SubAH_BVP_Ses1b'},\n",
       " 'DS': {'ses1a': 'SubDS_BVP_Ses1a', 'ses1b': 'SubDS_BVP_Ses1b'},\n",
       " 'ML': {'ses1a': 'SubML_BVP_Ses1a', 'ses1b': 'SubML_BVP_Ses1b'},\n",
       " 'WH': {'ses1a': 'SubWH_BVP_Ses1a', 'ses1b': 'SubWH_BVP_Ses1b'}}"
      ]
     },
     "execution_count": 5,
     "metadata": {},
     "output_type": "execute_result"
    }
   ],
   "source": [
    "exp_names"
   ]
  },
  {
   "cell_type": "code",
   "execution_count": 6,
   "metadata": {
    "collapsed": true
   },
   "outputs": [],
   "source": [
    "exp_names = {'AH': ['20100824AH-sg', '20100829AH-sg', '20110116AH-sg'],\n",
    "            'AN': ['20130607AN', '20140221AN', '20140223AN'],\n",
    "            'AV': ['20101002AV-sg', '20101009AV-sg', '20101022AV-sg'],\n",
    "            'BG': ['20140217BG', '20140301BG-sg', '20140303BG-sg'],\n",
    "            'DS': ['20140301DS-sg', '20140307DS-sg', '20140309DS-sg'],\n",
    "            'JG': ['20110321JG-sg', '20110615JG-sg', '20110621JG-sg'],\n",
    "            'ML': ['20130117ML-sg', '20130307ML-sg', '20130312ML-sg'],\n",
    "            'NB': ['20110130NB-sg', '20110320NB-sg', '20110605NB-sg'],\n",
    "            'SN': ['20100714SN-sg', '20100828SN-sg', '20100830SN-sg'],\n",
    "            'TC': ['20101001TC-sg', '20110219TC-sg', '20110522TC-sg'],\n",
    "            'WH': ['20120804WH-sg', '20120814WH-sg', '20121128WH-sg'],\n",
    "            }"
   ]
  },
  {
   "cell_type": "code",
   "execution_count": 7,
   "metadata": {
    "collapsed": false
   },
   "outputs": [
    {
     "name": "stdout",
     "output_type": "stream",
     "text": [
      "Contacting\n",
      "           host : http://meth:5984\n",
      "       database : docdb-nb\n",
      "Missing input xfm1 to action ConcatTransforms (_id=49c0a9f2ac19f6deff030f80e98532e63f2d0edeb9a4fb4230ad8993fe52854c0660c52323275e88f83a56342297e13d880592e6848edbb9cbb9224d93211697);\n",
      "\tshould be from transforms output from action with _id=2fff993b60b5f67bb87f2d2afd1f2d1a82350b85aa56ea3748783d3365b28558053608a84ba498bbadad8b614609caf377968d672b6b8384d86277a585ea7937\n",
      "Missing input image to action TemporalMean (_id=d7181f30c631a4e7fad17e9a1afa7b5aa37238a22332474a61cac142011795eaac3a5f473bc31de0bdbba8848946786515160b10151f62bb55b5138fc6a9f804);\n",
      "\tshould be from image output from action with _id=2fff993b60b5f67bb87f2d2afd1f2d1a82350b85aa56ea3748783d3365b28558053608a84ba498bbadad8b614609caf377968d672b6b8384d86277a585ea7937\n",
      "Missing input image to action DetrendMedian (_id=deb456908a449be6fa2f6394112d61651d711ec8d00cb702bbef02573323a055e34b8863817908aa2fda6c2653b7676d957f94664342c87545cc62fe66a3e77c);\n",
      "\tshould be from image output from action with _id=89f84bb8fc34a9e15703e0ab92bae2508e30f0f2f0fc6dd42bb108cdae55337c51c21b81ef4829cb19afff1e2c0c40ed465d3a4a0cf397785266f90b589ae588\n",
      "Missing input 0 to action CreateGroup (_id=8ad16cc3a8912177933b89e81e1b2ead29623c829c9790b2b6d344897189b60f8441a5ac69ba58e1b9d2072a4c1788ea2c7dae9a316d622ab616eeb28b18276c);\n",
      "\tshould be from image output from action with _id=534efeb4e09178284ec65f4c091474cf31645b60054a6f393bbebc2ce8d009772373c45a3fc759abf778265f9a519541cdb89d8fef18c1c79bc6be87d701505a\n",
      "Missing input image to action DetrendMedian (_id=deb456908a449be6fa2f6394112d61651d711ec8d00cb702bbef02573323a055e34b8863817908aa2fda6c2653b7676d957f94664342c87545cc62fe66a3e77c);\n",
      "\tshould be from image output from action with _id=89f84bb8fc34a9e15703e0ab92bae2508e30f0f2f0fc6dd42bb108cdae55337c51c21b81ef4829cb19afff1e2c0c40ed465d3a4a0cf397785266f90b589ae588\n",
      "Missing input reference to action RegisterFSL (_id=6808aa058746864108dd276f13622f4fabd36d520ca80fea2519ee324923d044f46a8bcd3c71cf9d964b17c75286eabef73db222ce3ffae24cc6e42f2cd45a83);\n",
      "\tshould be from image output from action with _id=a787bb1e3ede0aadb68d3c1b934d04481907aa8318dd0c44dec8b4cf864d8ed34f47627412ba725eceeefa6bbd080e75cddbbf2ffd6b02be040ca826b6cfc6f6\n",
      "Missing input image to action TemporalMean (_id=d7181f30c631a4e7fad17e9a1afa7b5aa37238a22332474a61cac142011795eaac3a5f473bc31de0bdbba8848946786515160b10151f62bb55b5138fc6a9f804);\n",
      "\tshould be from image output from action with _id=2fff993b60b5f67bb87f2d2afd1f2d1a82350b85aa56ea3748783d3365b28558053608a84ba498bbadad8b614609caf377968d672b6b8384d86277a585ea7937\n",
      "Missing input xfm1 to action ConcatTransforms (_id=49c0a9f2ac19f6deff030f80e98532e63f2d0edeb9a4fb4230ad8993fe52854c0660c52323275e88f83a56342297e13d880592e6848edbb9cbb9224d93211697);\n",
      "\tshould be from transforms output from action with _id=2fff993b60b5f67bb87f2d2afd1f2d1a82350b85aa56ea3748783d3365b28558053608a84ba498bbadad8b614609caf377968d672b6b8384d86277a585ea7937\n",
      "Missing input 0 to action CreateGroup (_id=8ad16cc3a8912177933b89e81e1b2ead29623c829c9790b2b6d344897189b60f8441a5ac69ba58e1b9d2072a4c1788ea2c7dae9a316d622ab616eeb28b18276c);\n",
      "\tshould be from image output from action with _id=534efeb4e09178284ec65f4c091474cf31645b60054a6f393bbebc2ce8d009772373c45a3fc759abf778265f9a519541cdb89d8fef18c1c79bc6be87d701505a\n",
      "Missing input image to action DetrendPoly (_id=291bf085da62ffa895aefa3d08f176caf2e86019ec11212adb47088832ce9e25dea1dda234b30846c3ba012a81556cdf981a87a0485159cfff01ae07fbbf43c6);\n",
      "\tshould be from image output from action with _id=88f2199ccf8717b48b426e29be8c873c3a1ade8ddeab8e118eaa753ff03a896e3df70dcf0a623bd6614164c292491382948b3fec29cb243a41d0c3a2bfc4390d\n"
     ]
    }
   ],
   "source": [
    "# This will vary depending on who you are getting data from\n",
    "# dbname = 'docdb-ml'\n",
    "dbname = 'docdb-nb'\n",
    "docdbi = docdb.getclient(dbname=dbname)"
   ]
  },
  {
   "cell_type": "code",
   "execution_count": 8,
   "metadata": {
    "collapsed": false
   },
   "outputs": [],
   "source": [
    "def check_ah(runs):\n",
    "    \"\"\"Bullshit special case bullshit\"\"\"\n",
    "    dep_act = [r.get_generating_action().get_all_dependencies() for r in runs]\n",
    "    dep_exp = [[ax.experiment_name for ax in a] for a in dep_act]\n",
    "    return [r for chk, r in zip(dep_exp, runs) if not 'SubAH_BVP_Ses1a' in chk]"
   ]
  },
  {
   "cell_type": "code",
   "execution_count": 9,
   "metadata": {
    "collapsed": false
   },
   "outputs": [],
   "source": [
    "def load_exp_data(experiment_name, clip=(10,310)):\n",
    "    \"\"\"Load data for movies (Blender movies / natural movies).     \n",
    "    \"\"\"\n",
    "    runs = docdbi.query(experiment_name=experiment_name, \n",
    "                        generated_by_name='ApplyTransform')\n",
    "    # Some bullshit\n",
    "    if experiment_name=='SubAH_BVP_Ses1b':\n",
    "        runs = check_ah(runs)\n",
    "    if len(runs)==6:\n",
    "        # For second and third sessions, all runs (1-7) will have \n",
    "        # ApplyTransform applied to them; thus this won't be necessary\n",
    "        r1 = docdbi.query(experiment_name=experiment_name, \n",
    "                      block_number=0, \n",
    "                      generated_by_name='MotionCorrectFSL')\n",
    "        runs = r1+runs\n",
    "    docs = sorted(runs, key=lambda x: x.block_number)\n",
    "    tdata = np.vstack([d.get_data()[clip[0]:clip[1]] for t, d in enumerate(docs) if t in (0,2,4,6)])\n",
    "    vdata = np.vstack([d.get_data()[clip[0]:clip[1]] for v, d in enumerate(docs) if v in (1,3,5)])\n",
    "    return tdata, vdata"
   ]
  },
  {
   "cell_type": "markdown",
   "metadata": {
    "collapsed": true
   },
   "source": [
    "# Used to check on output for blender experiments\n",
    "\n",
    "only works if load_exp_data is set to return `docs` variable.\n",
    "\n",
    "    docdbi.is_verbose = False\n",
    "    for sub in sub_list:\n",
    "        for ses in ['ses1a','ses1b']:\n",
    "            print('Subject %s, %s'%(sub,ses))\n",
    "            print len(load_exp_data(exp_names[sub][ses]))"
   ]
  },
  {
   "cell_type": "code",
   "execution_count": 13,
   "metadata": {
    "collapsed": false
   },
   "outputs": [
    {
     "name": "stdout",
     "output_type": "stream",
     "text": [
      "20110321JG-sg returning OBJECTS\n",
      "\"experiment_name\" query returns 42 items; elapsed time is 0.040\n",
      "\"generated_by_name\" query returns 6 items; elapsed time is 0.041\n",
      "\n",
      "\n",
      "returning OBJECTS\n",
      "\"block_number\" query returns 678 items; elapsed time is 0.025\n",
      "\"experiment_name\" query returns 5 items; elapsed time is 0.028\n",
      "\"generated_by_name\" query returns 1 items; elapsed time is 0.028\n",
      "\n",
      "\n",
      "20110615JG-sg returning OBJECTS\n",
      "\"experiment_name\" query returns 42 items; elapsed time is 0.038\n",
      "\"generated_by_name\" query returns 6 items; elapsed time is 0.038\n",
      "\n",
      "\n",
      "returning OBJECTS\n",
      "\"block_number\" query returns 678 items; elapsed time is 0.025\n",
      "\"experiment_name\" query returns 5 items; elapsed time is 0.028\n",
      "\"generated_by_name\" query returns 1 items; elapsed time is 0.028\n",
      "\n",
      "\n",
      "20110621JG-sg returning OBJECTS\n",
      "\"experiment_name\" query returns 42 items; elapsed time is 0.029\n",
      "\"generated_by_name\" query returns 6 items; elapsed time is 0.029\n",
      "\n",
      "\n",
      "returning OBJECTS\n",
      "\"block_number\" query returns 678 items; elapsed time is 0.025\n",
      "\"experiment_name\" query returns 5 items; elapsed time is 0.028\n",
      "\"generated_by_name\" query returns 1 items; elapsed time is 0.028\n",
      "\n",
      "\n"
     ]
    }
   ],
   "source": [
    "for exp_name in exp_names['JG']:\n",
    "    print exp_name,\n",
    "    tdata, vdata = load_exp_data(exp_names['AH'][0])\n",
    "    np.savez('/media/robertg/BOB_SAGET/datasets/'+exp_name+'.npz', tdata=tdata, vdata=vdata)"
   ]
  },
  {
   "cell_type": "code",
   "execution_count": 11,
   "metadata": {
    "collapsed": false
   },
   "outputs": [
    {
     "name": "stdout",
     "output_type": "stream",
     "text": [
      "(1200, 32, 100, 100)\n",
      "(900, 32, 100, 100)\n"
     ]
    }
   ],
   "source": [
    "print tdata.shape\n",
    "print vdata.shape"
   ]
  },
  {
   "cell_type": "code",
   "execution_count": null,
   "metadata": {
    "collapsed": true
   },
   "outputs": [],
   "source": []
  },
  {
   "cell_type": "code",
   "execution_count": 48,
   "metadata": {
    "collapsed": true
   },
   "outputs": [],
   "source": [
    "# For Blender movies\n",
    "order_file_blender = \"/auto/k1/mark/Projects-GLab/BVP_StimPres/BVPpilot1_Movies/ValSeq.mat\"\n",
    "seq_blender = loadmat(order_file_blender)['seq'].flatten()"
   ]
  },
  {
   "cell_type": "code",
   "execution_count": 49,
   "metadata": {
    "collapsed": false
   },
   "outputs": [],
   "source": [
    "order_file_movies = os.path.join(os.path.split(os.path.split(docdb.__file__)[0])[0], \"pipelines/ClipOrderOneMin_3by10.mat\")\n",
    "seq_movies = loadmat(order_file_movies)['seq'].flatten()"
   ]
  },
  {
   "cell_type": "code",
   "execution_count": 50,
   "metadata": {
    "collapsed": false
   },
   "outputs": [
    {
     "name": "stdout",
     "output_type": "stream",
     "text": [
      "[2 1 3 2 3 1 3 2 1 3 1 2 3 1 2 1 2 3 2 1 3 3 2 1 1 2 3 1 2 3]\n",
      "[3 2 1 2 1 3 1 2 3 2 2 1 1 3 3 2 2 3 3 1 1 3 1 2 1 3 2 3 2 1]\n"
     ]
    }
   ],
   "source": [
    "print seq_movies\n",
    "print seq_blender"
   ]
  },
  {
   "cell_type": "code",
   "execution_count": 51,
   "metadata": {
    "collapsed": false
   },
   "outputs": [],
   "source": [
    "# To sort valdation data by repeat:\n",
    "rvdata = vmt.utils.timecourse2repeats(vdata, seq_blender, 30, collapse_fun=None)"
   ]
  },
  {
   "cell_type": "code",
   "execution_count": 52,
   "metadata": {
    "collapsed": false
   },
   "outputs": [
    {
     "data": {
      "text/plain": [
       "(10, 90, 300000)"
      ]
     },
     "execution_count": 52,
     "metadata": {},
     "output_type": "execute_result"
    }
   ],
   "source": [
    "rvdata.shape"
   ]
  },
  {
   "cell_type": "code",
   "execution_count": null,
   "metadata": {
    "collapsed": true
   },
   "outputs": [],
   "source": [
    "# You will want to mask this (obviously)."
   ]
  }
 ],
 "metadata": {
  "kernelspec": {
   "display_name": "Python 2",
   "language": "python",
   "name": "python2"
  },
  "language_info": {
   "codemirror_mode": {
    "name": "ipython",
    "version": 2
   },
   "file_extension": ".py",
   "mimetype": "text/x-python",
   "name": "python",
   "nbconvert_exporter": "python",
   "pygments_lexer": "ipython2",
   "version": "2.7.6"
  }
 },
 "nbformat": 4,
 "nbformat_minor": 0
}
